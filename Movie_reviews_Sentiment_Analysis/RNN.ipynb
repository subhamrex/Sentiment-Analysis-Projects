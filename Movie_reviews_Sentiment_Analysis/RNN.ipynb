{
 "cells": [
  {
   "cell_type": "markdown",
   "metadata": {},
   "source": [
    "## Using recurrent neural network"
   ]
  },
  {
   "cell_type": "code",
   "execution_count": 1,
   "metadata": {},
   "outputs": [],
   "source": [
    "import pandas as pd\n",
    "import numpy as np\n",
    "import re\n",
    "import nltk\n",
    "from nltk.corpus import stopwords\n",
    "from sklearn.feature_extraction.text import CountVectorizer\n",
    "from sklearn.model_selection import train_test_split\n",
    "import tensorflow as tf\n",
    "from tensorflow.keras.layers import Dense, Embedding, LSTM\n",
    "from tensorflow.keras.models import Sequential\n",
    "from tensorflow.keras.preprocessing.text import Tokenizer\n",
    "from tensorflow.keras.preprocessing.sequence import pad_sequences"
   ]
  },
  {
   "cell_type": "code",
   "execution_count": 2,
   "metadata": {},
   "outputs": [],
   "source": [
    "gpu_devices = tf.config.experimental.list_physical_devices(\"GPU\")\n",
    "for device in gpu_devices:\n",
    "    tf.config.experimental.set_memory_growth(device, True)"
   ]
  },
  {
   "cell_type": "code",
   "execution_count": 3,
   "metadata": {},
   "outputs": [],
   "source": [
    "df = pd.read_csv('IMDB_Dataset.csv')"
   ]
  },
  {
   "cell_type": "code",
   "execution_count": 4,
   "metadata": {},
   "outputs": [],
   "source": [
    "df = df.sample(10000)"
   ]
  },
  {
   "cell_type": "code",
   "execution_count": 5,
   "metadata": {},
   "outputs": [
    {
     "data": {
      "text/plain": [
       "False"
      ]
     },
     "execution_count": 5,
     "metadata": {},
     "output_type": "execute_result"
    }
   ],
   "source": [
    "df.isnull().values.any()"
   ]
  },
  {
   "cell_type": "code",
   "execution_count": 6,
   "metadata": {},
   "outputs": [
    {
     "data": {
      "text/plain": [
       "(10000, 2)"
      ]
     },
     "execution_count": 6,
     "metadata": {},
     "output_type": "execute_result"
    }
   ],
   "source": [
    "df.shape"
   ]
  },
  {
   "cell_type": "code",
   "execution_count": 7,
   "metadata": {},
   "outputs": [
    {
     "data": {
      "text/html": [
       "<div>\n",
       "<style scoped>\n",
       "    .dataframe tbody tr th:only-of-type {\n",
       "        vertical-align: middle;\n",
       "    }\n",
       "\n",
       "    .dataframe tbody tr th {\n",
       "        vertical-align: top;\n",
       "    }\n",
       "\n",
       "    .dataframe thead th {\n",
       "        text-align: right;\n",
       "    }\n",
       "</style>\n",
       "<table border=\"1\" class=\"dataframe\">\n",
       "  <thead>\n",
       "    <tr style=\"text-align: right;\">\n",
       "      <th></th>\n",
       "      <th>review</th>\n",
       "      <th>sentiment</th>\n",
       "    </tr>\n",
       "  </thead>\n",
       "  <tbody>\n",
       "    <tr>\n",
       "      <th>49638</th>\n",
       "      <td>This has to be one of the biggest misfires eve...</td>\n",
       "      <td>negative</td>\n",
       "    </tr>\n",
       "    <tr>\n",
       "      <th>22715</th>\n",
       "      <td>I would ward off any temptation to view this m...</td>\n",
       "      <td>negative</td>\n",
       "    </tr>\n",
       "    <tr>\n",
       "      <th>19159</th>\n",
       "      <td>I grew up in Houston and was nine when this mo...</td>\n",
       "      <td>positive</td>\n",
       "    </tr>\n",
       "    <tr>\n",
       "      <th>36725</th>\n",
       "      <td>I saw this film at a time when I was timidly t...</td>\n",
       "      <td>positive</td>\n",
       "    </tr>\n",
       "    <tr>\n",
       "      <th>33349</th>\n",
       "      <td>I don't want to go off on a rant here, but.......</td>\n",
       "      <td>negative</td>\n",
       "    </tr>\n",
       "  </tbody>\n",
       "</table>\n",
       "</div>"
      ],
      "text/plain": [
       "                                                  review sentiment\n",
       "49638  This has to be one of the biggest misfires eve...  negative\n",
       "22715  I would ward off any temptation to view this m...  negative\n",
       "19159  I grew up in Houston and was nine when this mo...  positive\n",
       "36725  I saw this film at a time when I was timidly t...  positive\n",
       "33349  I don't want to go off on a rant here, but.......  negative"
      ]
     },
     "execution_count": 7,
     "metadata": {},
     "output_type": "execute_result"
    }
   ],
   "source": [
    "df.head()"
   ]
  },
  {
   "cell_type": "code",
   "execution_count": null,
   "metadata": {},
   "outputs": [],
   "source": []
  },
  {
   "cell_type": "code",
   "execution_count": 8,
   "metadata": {},
   "outputs": [],
   "source": [
    "TAG_RE = re.compile(r'<[^>]+>')\n",
    "\n",
    "def remove_tags(text):\n",
    "    return TAG_RE.sub('', text)"
   ]
  },
  {
   "cell_type": "code",
   "execution_count": 9,
   "metadata": {},
   "outputs": [],
   "source": [
    "\n",
    "def preprocess_text(sen):\n",
    "    # Removing html tags\n",
    "    sentence = remove_tags(sen)\n",
    "\n",
    "    # Remove punctuations and numbers\n",
    "    sentence = re.sub('[^a-zA-Z]', ' ', sentence)\n",
    "\n",
    "    # Single character removal\n",
    "    sentence = re.sub(r\"\\s+[a-zA-Z]\\s+\", ' ', sentence)\n",
    "\n",
    "    # Removing multiple spaces\n",
    "    sentence = re.sub(r'\\s+', ' ', sentence)\n",
    "\n",
    "    return sentence"
   ]
  },
  {
   "cell_type": "code",
   "execution_count": 10,
   "metadata": {},
   "outputs": [],
   "source": [
    "X = []\n",
    "sentences = list(df['review'])\n",
    "for sen in sentences:\n",
    "    X.append(preprocess_text(sen))"
   ]
  },
  {
   "cell_type": "code",
   "execution_count": 11,
   "metadata": {},
   "outputs": [
    {
     "data": {
      "text/plain": [
       "'I saw this film at time when was timidly toying with the idea of moving into my own apartment and starting life on my own Maybe that is the reason why took it so seriously believed totally in the poor character psychological degradation inside Paris of perpetual construction sites dust squalor selfishness rudeness malice and decay m giving all the credit to Polanski artistry in his direction his playing and his inescapable script but fainted during the horrible final scene and had to be revived by cognac in the office of the theatre manager Luckily for me my life on my own didn turn out as disastrous as this so far but have always kept great respect for an artist who can perform such illusions and so totally immerse himself in the fake reality he is trying to convey Simply put the man is genius of the first order and credit to the human race This film is the sum of many many instances of great acting and great casting As some performances were done in English the scenes with Shelley Winters and Melvyn Douglas among others and others in French with most other characters and Polanski did his own dubbing in English and French heartily recommend if you happen to be bilingual to switch the audio from French to English and vice versa during the appropriate scenes while watching the magnificent transfer on Paramount DVD This film is part of Polanski so called apartment building trilogy which also comprises Repulsion and Rosemary Baby Unfortunately Repulsion still hasn made it to decent DVD transfer in Region Needless to say the three films would make magnificent boxset '"
      ]
     },
     "execution_count": 11,
     "metadata": {},
     "output_type": "execute_result"
    }
   ],
   "source": [
    "X[3]"
   ]
  },
  {
   "cell_type": "code",
   "execution_count": 12,
   "metadata": {},
   "outputs": [],
   "source": [
    "y = df['sentiment']\n",
    "y = np.array(list(map(lambda x: 1 if x==\"positive\" else 0, y)))"
   ]
  },
  {
   "cell_type": "code",
   "execution_count": 13,
   "metadata": {},
   "outputs": [],
   "source": [
    "# Spliting data\n",
    "X_train, X_test, y_train, y_test = train_test_split(X, y, test_size=0.20, random_state=42)"
   ]
  },
  {
   "cell_type": "code",
   "execution_count": 14,
   "metadata": {},
   "outputs": [],
   "source": [
    "# Tokenizing\n",
    "tokenizer = Tokenizer(num_words=5000)\n",
    "tokenizer.fit_on_texts(X_train)\n",
    "\n",
    "X_train = tokenizer.texts_to_sequences(X_train)\n",
    "X_test = tokenizer.texts_to_sequences(X_test)"
   ]
  },
  {
   "cell_type": "code",
   "execution_count": 15,
   "metadata": {},
   "outputs": [],
   "source": [
    "# Adding 1 because of reserved 0 index\n",
    "vocab_size = len(tokenizer.word_index) + 1\n",
    "\n",
    "maxlen = 256\n",
    "\n",
    "X_train = pad_sequences(X_train, padding='post', maxlen=maxlen)\n",
    "X_test = pad_sequences(X_test, padding='post', maxlen=maxlen)"
   ]
  },
  {
   "cell_type": "code",
   "execution_count": 16,
   "metadata": {},
   "outputs": [],
   "source": [
    "# Open glove file which is an unsupervised algorithm for obtaining  vector representations for words.\n",
    "\n",
    "embeddings_dictionary = dict()\n",
    "glove_file = open('glove/glove.6B.200d.txt',encoding=\"utf8\") # download link: https://www.kaggle.com/incorpes/glove6b200d/download\n",
    "\n",
    "for line in glove_file:\n",
    "    records = line.split()\n",
    "    word = records[0]\n",
    "    vector_dimensions = np.asarray(records[1:], dtype='float32')\n",
    "    embeddings_dictionary [word] = vector_dimensions\n",
    "glove_file.close()"
   ]
  },
  {
   "cell_type": "code",
   "execution_count": 17,
   "metadata": {},
   "outputs": [],
   "source": [
    "embedding_matrix = np.zeros((vocab_size, 200))\n",
    "for word, index in tokenizer.word_index.items():\n",
    "    embedding_vector = embeddings_dictionary.get(word)\n",
    "    if embedding_vector is not None:\n",
    "        embedding_matrix[index] = embedding_vector"
   ]
  },
  {
   "cell_type": "code",
   "execution_count": 18,
   "metadata": {},
   "outputs": [],
   "source": [
    "model = Sequential()\n",
    "embedding_layer = Embedding(vocab_size, 200, weights=[embedding_matrix], input_length=maxlen , trainable=False)\n",
    "model.add(embedding_layer)\n",
    "model.add(LSTM(128,return_sequences=True))\n",
    "model.add(LSTM(32))\n",
    "\n",
    "model.add(Dense(1, activation='sigmoid'))\n",
    "model.compile(optimizer='adam', loss='binary_crossentropy', metrics=['acc'])"
   ]
  },
  {
   "cell_type": "code",
   "execution_count": 19,
   "metadata": {},
   "outputs": [
    {
     "name": "stdout",
     "output_type": "stream",
     "text": [
      "Model: \"sequential\"\n",
      "_________________________________________________________________\n",
      "Layer (type)                 Output Shape              Param #   \n",
      "=================================================================\n",
      "embedding (Embedding)        (None, 256, 200)          9490600   \n",
      "_________________________________________________________________\n",
      "lstm (LSTM)                  (None, 256, 128)          168448    \n",
      "_________________________________________________________________\n",
      "lstm_1 (LSTM)                (None, 32)                20608     \n",
      "_________________________________________________________________\n",
      "dense (Dense)                (None, 1)                 33        \n",
      "=================================================================\n",
      "Total params: 9,679,689\n",
      "Trainable params: 189,089\n",
      "Non-trainable params: 9,490,600\n",
      "_________________________________________________________________\n"
     ]
    }
   ],
   "source": [
    "model.summary()"
   ]
  },
  {
   "cell_type": "code",
   "execution_count": 20,
   "metadata": {},
   "outputs": [
    {
     "name": "stdout",
     "output_type": "stream",
     "text": [
      "Epoch 1/16\n",
      "50/50 [==============================] - 9s 98ms/step - loss: 0.6883 - acc: 0.5344 - val_loss: 0.6638 - val_acc: 0.5644\n",
      "Epoch 2/16\n",
      "50/50 [==============================] - 3s 53ms/step - loss: 0.6598 - acc: 0.5980 - val_loss: 0.6931 - val_acc: 0.5044\n",
      "Epoch 3/16\n",
      "50/50 [==============================] - 3s 52ms/step - loss: 0.6942 - acc: 0.4969 - val_loss: 0.6924 - val_acc: 0.5150\n",
      "Epoch 4/16\n",
      "50/50 [==============================] - 3s 52ms/step - loss: 0.6906 - acc: 0.5215 - val_loss: 0.6893 - val_acc: 0.5138\n",
      "Epoch 5/16\n",
      "50/50 [==============================] - 3s 52ms/step - loss: 0.6845 - acc: 0.5379 - val_loss: 0.6825 - val_acc: 0.5594\n",
      "Epoch 6/16\n",
      "50/50 [==============================] - 3s 52ms/step - loss: 0.6793 - acc: 0.5531 - val_loss: 0.6191 - val_acc: 0.6744\n",
      "Epoch 7/16\n",
      "50/50 [==============================] - 3s 52ms/step - loss: 0.6420 - acc: 0.6416 - val_loss: 0.7628 - val_acc: 0.5475\n",
      "Epoch 8/16\n",
      "50/50 [==============================] - 3s 53ms/step - loss: 0.6353 - acc: 0.6667 - val_loss: 0.5199 - val_acc: 0.7806\n",
      "Epoch 9/16\n",
      "50/50 [==============================] - 3s 52ms/step - loss: 0.5585 - acc: 0.7253 - val_loss: 0.4821 - val_acc: 0.7919\n",
      "Epoch 10/16\n",
      "50/50 [==============================] - 3s 52ms/step - loss: 0.4625 - acc: 0.7941 - val_loss: 0.5175 - val_acc: 0.7437\n",
      "Epoch 11/16\n",
      "50/50 [==============================] - 3s 52ms/step - loss: 0.4680 - acc: 0.7913 - val_loss: 0.5819 - val_acc: 0.7706\n",
      "Epoch 12/16\n",
      "50/50 [==============================] - 3s 50ms/step - loss: 0.4894 - acc: 0.8076 - val_loss: 0.4067 - val_acc: 0.8319\n",
      "Epoch 13/16\n",
      "50/50 [==============================] - 3s 51ms/step - loss: 0.3866 - acc: 0.8326 - val_loss: 0.3781 - val_acc: 0.8331\n",
      "Epoch 14/16\n",
      "50/50 [==============================] - 2s 50ms/step - loss: 0.3658 - acc: 0.8460 - val_loss: 0.3671 - val_acc: 0.8400\n",
      "Epoch 15/16\n",
      "50/50 [==============================] - 3s 50ms/step - loss: 0.3531 - acc: 0.8433 - val_loss: 0.3569 - val_acc: 0.8462\n",
      "Epoch 16/16\n",
      "50/50 [==============================] - 3s 50ms/step - loss: 0.3305 - acc: 0.8565 - val_loss: 0.3602 - val_acc: 0.8456\n",
      "63/63 [==============================] - 1s 13ms/step - loss: 0.3367 - acc: 0.8615\n"
     ]
    }
   ],
   "source": [
    "history = model.fit(X_train, y_train, batch_size=128, epochs=16, verbose=1, validation_split=0.2)\n",
    "\n",
    "score = model.evaluate(X_test, y_test, verbose=1)"
   ]
  },
  {
   "cell_type": "code",
   "execution_count": 21,
   "metadata": {},
   "outputs": [
    {
     "name": "stdout",
     "output_type": "stream",
     "text": [
      "Test Score: 0.3367294371128082\n",
      "Test Accuracy: 0.8615000247955322\n"
     ]
    }
   ],
   "source": [
    "print(\"Test Score:\", score[0])\n",
    "print(\"Test Accuracy:\", score[1])"
   ]
  },
  {
   "cell_type": "code",
   "execution_count": 22,
   "metadata": {},
   "outputs": [
    {
     "data": {
      "image/png": "[encoded data removed]",
      "text/plain": [
       "<Figure size 432x288 with 1 Axes>"
      ]
     },
     "metadata": {
      "needs_background": "light"
     },
     "output_type": "display_data"
    },
    {
     "data": {
      "image/png": "[encoded data removed]",
      "text/plain": [
       "<Figure size 432x288 with 1 Axes>"
      ]
     },
     "metadata": {
      "needs_background": "light"
     },
     "output_type": "display_data"
    }
   ],
   "source": [
    "import matplotlib.pyplot as plt\n",
    "\n",
    "plt.plot(history.history['acc'])\n",
    "plt.plot(history.history['val_acc'])\n",
    "\n",
    "plt.title('model accuracy')\n",
    "plt.ylabel('accuracy')\n",
    "plt.xlabel('epoch')\n",
    "plt.legend(['train','test'], loc='upper left')\n",
    "plt.show()\n",
    "\n",
    "plt.plot(history.history['loss'])\n",
    "plt.plot(history.history['val_loss'])\n",
    "\n",
    "plt.title('model loss')\n",
    "plt.ylabel('loss')\n",
    "plt.xlabel('epoch')\n",
    "plt.legend(['train','test'], loc='upper left')\n",
    "plt.show()"
   ]
  },
  {
   "cell_type": "code",
   "execution_count": 23,
   "metadata": {},
   "outputs": [],
   "source": [
    "model.save('model-glove-rnn.h5')"
   ]
  },
  {
   "cell_type": "code",
   "execution_count": null,
   "metadata": {},
   "outputs": [],
   "source": []
  }
 ],
 "metadata": {
  "kernelspec": {
   "display_name": "Python 3",
   "language": "python",
   "name": "python3"
  },
  "language_info": {
   "codemirror_mode": {
    "name": "ipython",
    "version": 3
   },
   "file_extension": ".py",
   "mimetype": "text/x-python",
   "name": "python",
   "nbconvert_exporter": "python",
   "pygments_lexer": "ipython3",
   "version": "3.8.8"
  }
 },
 "nbformat": 4,
 "nbformat_minor": 2
}
