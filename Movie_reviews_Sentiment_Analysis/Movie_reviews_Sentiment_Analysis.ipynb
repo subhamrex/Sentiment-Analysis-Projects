{
 "metadata": {
  "language_info": {
   "codemirror_mode": {
    "name": "ipython",
    "version": 3
   },
   "file_extension": ".py",
   "mimetype": "text/x-python",
   "name": "python",
   "nbconvert_exporter": "python",
   "pygments_lexer": "ipython3",
   "version": "3.8.8"
  },
  "orig_nbformat": 2,
  "kernelspec": {
   "name": "python388jvsc74a57bd0ee3f911196a4973fb8814cb027efcbeb8a49ed735f0d8d24476be6ad7539dca9",
   "display_name": "Python 3.8.8 64-bit ('ML': conda)"
  }
 },
 "nbformat": 4,
 "nbformat_minor": 2,
 "cells": [
  {
   "source": [
    "# Sentiment Analysis of Movie reviews"
   ],
   "cell_type": "markdown",
   "metadata": {}
  },
  {
   "source": [
    "## Import libraies"
   ],
   "cell_type": "markdown",
   "metadata": {}
  },
  {
   "cell_type": "code",
   "execution_count": 1,
   "metadata": {},
   "outputs": [],
   "source": [
    "import numpy as np\n",
    "import pandas as pd\n",
    "import seaborn as sns\n",
    "import re\n",
    "import nltk\n",
    "from nltk.corpus import stopwords\n",
    "# nltk.download('stopwords') # If it needs to do it.\n",
    "from sklearn.feature_extraction.text import CountVectorizer\n",
    "from sklearn.model_selection import train_test_split\n",
    "from sklearn.naive_bayes import GaussianNB,MultinomialNB,BernoulliNB\n",
    "from sklearn.metrics import accuracy_score\n",
    "import seaborn as sns\n",
    "import pickle"
   ]
  },
  {
   "source": [
    "## Movie reviews data set"
   ],
   "cell_type": "markdown",
   "metadata": {}
  },
  {
   "cell_type": "code",
   "execution_count": 2,
   "metadata": {},
   "outputs": [],
   "source": [
    "df = pd.read_csv('IMDB_Dataset.csv') # data download link: https://www.kaggle.com/lakshmi25npathi/imdb-dataset-of-50k-movie-reviews/download\n",
    "\n",
    "df.head()\n",
    "\n",
    "df = df.sample(20000) # Taking 20000 random samples from dataset"
   ]
  },
  {
   "source": [
    "## Data preprocessing"
   ],
   "cell_type": "markdown",
   "metadata": {}
  },
  {
   "source": [
    "### Use one hot encoding to convert label into 0 and 1"
   ],
   "cell_type": "markdown",
   "metadata": {}
  },
  {
   "cell_type": "code",
   "execution_count": 3,
   "metadata": {},
   "outputs": [
    {
     "output_type": "execute_result",
     "data": {
      "text/plain": [
       "                                                  review  sentiment_positive\n",
       "10343  this movie scared the hell out of me for no go...                   0\n",
       "14390  The movie uses random events of historical sig...                   0\n",
       "74     Upon viewing Tobe Hooper's gem, Crocodile, in ...                   0\n",
       "16749  boring stuff we got here. His 5 minute shorts ...                   0\n",
       "30589  Fairly good movie, but not a true story.<br />...                   0"
      ],
      "text/html": "<div>\n<style scoped>\n    .dataframe tbody tr th:only-of-type {\n        vertical-align: middle;\n    }\n\n    .dataframe tbody tr th {\n        vertical-align: top;\n    }\n\n    .dataframe thead th {\n        text-align: right;\n    }\n</style>\n<table border=\"1\" class=\"dataframe\">\n  <thead>\n    <tr style=\"text-align: right;\">\n      <th></th>\n      <th>review</th>\n      <th>sentiment_positive</th>\n    </tr>\n  </thead>\n  <tbody>\n    <tr>\n      <th>10343</th>\n      <td>this movie scared the hell out of me for no go...</td>\n      <td>0</td>\n    </tr>\n    <tr>\n      <th>14390</th>\n      <td>The movie uses random events of historical sig...</td>\n      <td>0</td>\n    </tr>\n    <tr>\n      <th>74</th>\n      <td>Upon viewing Tobe Hooper's gem, Crocodile, in ...</td>\n      <td>0</td>\n    </tr>\n    <tr>\n      <th>16749</th>\n      <td>boring stuff we got here. His 5 minute shorts ...</td>\n      <td>0</td>\n    </tr>\n    <tr>\n      <th>30589</th>\n      <td>Fairly good movie, but not a true story.&lt;br /&gt;...</td>\n      <td>0</td>\n    </tr>\n  </tbody>\n</table>\n</div>"
     },
     "metadata": {},
     "execution_count": 3
    }
   ],
   "source": [
    "df = pd.get_dummies(df, columns=['sentiment'], drop_first=True)\n",
    "\n",
    "df.head()"
   ]
  },
  {
   "source": [
    "### Removing tags from data"
   ],
   "cell_type": "markdown",
   "metadata": {}
  },
  {
   "cell_type": "code",
   "execution_count": 4,
   "metadata": {},
   "outputs": [],
   "source": [
    "tag_remove = lambda x: re.sub(re.compile('<.*?>'),'',x)"
   ]
  },
  {
   "cell_type": "code",
   "execution_count": 5,
   "metadata": {},
   "outputs": [
    {
     "output_type": "execute_result",
     "data": {
      "text/plain": [
       "                                                  review  sentiment_positive\n",
       "10343  this movie scared the hell out of me for no go...                   0\n",
       "14390  The movie uses random events of historical sig...                   0\n",
       "74     Upon viewing Tobe Hooper's gem, Crocodile, in ...                   0\n",
       "16749  boring stuff we got here. His 5 minute shorts ...                   0\n",
       "30589  Fairly good movie, but not a true story.Rubin ...                   0"
      ],
      "text/html": "<div>\n<style scoped>\n    .dataframe tbody tr th:only-of-type {\n        vertical-align: middle;\n    }\n\n    .dataframe tbody tr th {\n        vertical-align: top;\n    }\n\n    .dataframe thead th {\n        text-align: right;\n    }\n</style>\n<table border=\"1\" class=\"dataframe\">\n  <thead>\n    <tr style=\"text-align: right;\">\n      <th></th>\n      <th>review</th>\n      <th>sentiment_positive</th>\n    </tr>\n  </thead>\n  <tbody>\n    <tr>\n      <th>10343</th>\n      <td>this movie scared the hell out of me for no go...</td>\n      <td>0</td>\n    </tr>\n    <tr>\n      <th>14390</th>\n      <td>The movie uses random events of historical sig...</td>\n      <td>0</td>\n    </tr>\n    <tr>\n      <th>74</th>\n      <td>Upon viewing Tobe Hooper's gem, Crocodile, in ...</td>\n      <td>0</td>\n    </tr>\n    <tr>\n      <th>16749</th>\n      <td>boring stuff we got here. His 5 minute shorts ...</td>\n      <td>0</td>\n    </tr>\n    <tr>\n      <th>30589</th>\n      <td>Fairly good movie, but not a true story.Rubin ...</td>\n      <td>0</td>\n    </tr>\n  </tbody>\n</table>\n</div>"
     },
     "metadata": {},
     "execution_count": 5
    }
   ],
   "source": [
    "df['review']=df['review'].apply(tag_remove)\n",
    "df.head()"
   ]
  },
  {
   "source": [
    "### Removing special charecters from data"
   ],
   "cell_type": "markdown",
   "metadata": {}
  },
  {
   "cell_type": "code",
   "execution_count": 6,
   "metadata": {},
   "outputs": [],
   "source": [
    "special_chr_remove = lambda x: re.sub(r'\\W+,. ', ' ', x) "
   ]
  },
  {
   "cell_type": "code",
   "execution_count": 7,
   "metadata": {},
   "outputs": [
    {
     "output_type": "execute_result",
     "data": {
      "text/plain": [
       "                                                  review  sentiment_positive\n",
       "10343  this movie scared the hell out of me for no go...                   0\n",
       "14390  The movie uses random events of historical sig...                   0\n",
       "74     Upon viewing Tobe Hooper's gem, Crocodile, in ...                   0\n",
       "16749  boring stuff we got here. His 5 minute shorts ...                   0\n",
       "30589  Fairly good movie, but not a true story.Rubin ...                   0"
      ],
      "text/html": "<div>\n<style scoped>\n    .dataframe tbody tr th:only-of-type {\n        vertical-align: middle;\n    }\n\n    .dataframe tbody tr th {\n        vertical-align: top;\n    }\n\n    .dataframe thead th {\n        text-align: right;\n    }\n</style>\n<table border=\"1\" class=\"dataframe\">\n  <thead>\n    <tr style=\"text-align: right;\">\n      <th></th>\n      <th>review</th>\n      <th>sentiment_positive</th>\n    </tr>\n  </thead>\n  <tbody>\n    <tr>\n      <th>10343</th>\n      <td>this movie scared the hell out of me for no go...</td>\n      <td>0</td>\n    </tr>\n    <tr>\n      <th>14390</th>\n      <td>The movie uses random events of historical sig...</td>\n      <td>0</td>\n    </tr>\n    <tr>\n      <th>74</th>\n      <td>Upon viewing Tobe Hooper's gem, Crocodile, in ...</td>\n      <td>0</td>\n    </tr>\n    <tr>\n      <th>16749</th>\n      <td>boring stuff we got here. His 5 minute shorts ...</td>\n      <td>0</td>\n    </tr>\n    <tr>\n      <th>30589</th>\n      <td>Fairly good movie, but not a true story.Rubin ...</td>\n      <td>0</td>\n    </tr>\n  </tbody>\n</table>\n</div>"
     },
     "metadata": {},
     "execution_count": 7
    }
   ],
   "source": [
    "df['review']=df['review'].apply(special_chr_remove)\n",
    "df.head()"
   ]
  },
  {
   "source": [
    "### Convert all characters in dataset into lowercase"
   ],
   "cell_type": "markdown",
   "metadata": {}
  },
  {
   "cell_type": "code",
   "execution_count": 8,
   "metadata": {},
   "outputs": [],
   "source": [
    "convert_to_lower = lambda x: x.lower()"
   ]
  },
  {
   "cell_type": "code",
   "execution_count": 9,
   "metadata": {},
   "outputs": [
    {
     "output_type": "execute_result",
     "data": {
      "text/plain": [
       "                                                  review  sentiment_positive\n",
       "10343  this movie scared the hell out of me for no go...                   0\n",
       "14390  the movie uses random events of historical sig...                   0\n",
       "74     upon viewing tobe hooper's gem, crocodile, in ...                   0\n",
       "16749  boring stuff we got here. his 5 minute shorts ...                   0\n",
       "30589  fairly good movie, but not a true story.rubin ...                   0"
      ],
      "text/html": "<div>\n<style scoped>\n    .dataframe tbody tr th:only-of-type {\n        vertical-align: middle;\n    }\n\n    .dataframe tbody tr th {\n        vertical-align: top;\n    }\n\n    .dataframe thead th {\n        text-align: right;\n    }\n</style>\n<table border=\"1\" class=\"dataframe\">\n  <thead>\n    <tr style=\"text-align: right;\">\n      <th></th>\n      <th>review</th>\n      <th>sentiment_positive</th>\n    </tr>\n  </thead>\n  <tbody>\n    <tr>\n      <th>10343</th>\n      <td>this movie scared the hell out of me for no go...</td>\n      <td>0</td>\n    </tr>\n    <tr>\n      <th>14390</th>\n      <td>the movie uses random events of historical sig...</td>\n      <td>0</td>\n    </tr>\n    <tr>\n      <th>74</th>\n      <td>upon viewing tobe hooper's gem, crocodile, in ...</td>\n      <td>0</td>\n    </tr>\n    <tr>\n      <th>16749</th>\n      <td>boring stuff we got here. his 5 minute shorts ...</td>\n      <td>0</td>\n    </tr>\n    <tr>\n      <th>30589</th>\n      <td>fairly good movie, but not a true story.rubin ...</td>\n      <td>0</td>\n    </tr>\n  </tbody>\n</table>\n</div>"
     },
     "metadata": {},
     "execution_count": 9
    }
   ],
   "source": [
    "df['review']=df['review'].apply(convert_to_lower)\n",
    "df.head()"
   ]
  },
  {
   "source": [
    "### Remove punctuation from dataset"
   ],
   "cell_type": "markdown",
   "metadata": {}
  },
  {
   "cell_type": "code",
   "execution_count": 10,
   "metadata": {},
   "outputs": [],
   "source": [
    "remove_punctuation = lambda x: re.sub(r'[^\\w\\s]', ' ',x)"
   ]
  },
  {
   "cell_type": "code",
   "execution_count": 11,
   "metadata": {},
   "outputs": [
    {
     "output_type": "execute_result",
     "data": {
      "text/plain": [
       "                                                  review  sentiment_positive\n",
       "10343  this movie scared the hell out of me for no go...                   0\n",
       "14390  the movie uses random events of historical sig...                   0\n",
       "74     upon viewing tobe hooper s gem  crocodile  in ...                   0\n",
       "16749  boring stuff we got here  his 5 minute shorts ...                   0\n",
       "30589  fairly good movie  but not a true story rubin ...                   0"
      ],
      "text/html": "<div>\n<style scoped>\n    .dataframe tbody tr th:only-of-type {\n        vertical-align: middle;\n    }\n\n    .dataframe tbody tr th {\n        vertical-align: top;\n    }\n\n    .dataframe thead th {\n        text-align: right;\n    }\n</style>\n<table border=\"1\" class=\"dataframe\">\n  <thead>\n    <tr style=\"text-align: right;\">\n      <th></th>\n      <th>review</th>\n      <th>sentiment_positive</th>\n    </tr>\n  </thead>\n  <tbody>\n    <tr>\n      <th>10343</th>\n      <td>this movie scared the hell out of me for no go...</td>\n      <td>0</td>\n    </tr>\n    <tr>\n      <th>14390</th>\n      <td>the movie uses random events of historical sig...</td>\n      <td>0</td>\n    </tr>\n    <tr>\n      <th>74</th>\n      <td>upon viewing tobe hooper s gem  crocodile  in ...</td>\n      <td>0</td>\n    </tr>\n    <tr>\n      <th>16749</th>\n      <td>boring stuff we got here  his 5 minute shorts ...</td>\n      <td>0</td>\n    </tr>\n    <tr>\n      <th>30589</th>\n      <td>fairly good movie  but not a true story rubin ...</td>\n      <td>0</td>\n    </tr>\n  </tbody>\n</table>\n</div>"
     },
     "metadata": {},
     "execution_count": 11
    }
   ],
   "source": [
    "df['review']=df['review'].apply(remove_punctuation)\n",
    "df.head()"
   ]
  },
  {
   "source": [
    "### Remove Stop words"
   ],
   "cell_type": "markdown",
   "metadata": {}
  },
  {
   "cell_type": "code",
   "execution_count": 12,
   "metadata": {},
   "outputs": [],
   "source": [
    "stop = stopwords.words('english')\n",
    "remove_stopwords = lambda x: ' '.join([word for word in x.split() if word not in (stop)])"
   ]
  },
  {
   "cell_type": "code",
   "execution_count": 13,
   "metadata": {},
   "outputs": [
    {
     "output_type": "execute_result",
     "data": {
      "text/plain": [
       "                                                  review  sentiment_positive\n",
       "10343  movie scared hell good reason eerie music well...                   0\n",
       "14390  movie uses random events historical significan...                   0\n",
       "74     upon viewing tobe hooper gem crocodile 2000 de...                   0\n",
       "16749  boring stuff got 5 minute shorts better know 5...                   0\n",
       "30589  fairly good movie true story rubin hurricane c...                   0"
      ],
      "text/html": "<div>\n<style scoped>\n    .dataframe tbody tr th:only-of-type {\n        vertical-align: middle;\n    }\n\n    .dataframe tbody tr th {\n        vertical-align: top;\n    }\n\n    .dataframe thead th {\n        text-align: right;\n    }\n</style>\n<table border=\"1\" class=\"dataframe\">\n  <thead>\n    <tr style=\"text-align: right;\">\n      <th></th>\n      <th>review</th>\n      <th>sentiment_positive</th>\n    </tr>\n  </thead>\n  <tbody>\n    <tr>\n      <th>10343</th>\n      <td>movie scared hell good reason eerie music well...</td>\n      <td>0</td>\n    </tr>\n    <tr>\n      <th>14390</th>\n      <td>movie uses random events historical significan...</td>\n      <td>0</td>\n    </tr>\n    <tr>\n      <th>74</th>\n      <td>upon viewing tobe hooper gem crocodile 2000 de...</td>\n      <td>0</td>\n    </tr>\n    <tr>\n      <th>16749</th>\n      <td>boring stuff got 5 minute shorts better know 5...</td>\n      <td>0</td>\n    </tr>\n    <tr>\n      <th>30589</th>\n      <td>fairly good movie true story rubin hurricane c...</td>\n      <td>0</td>\n    </tr>\n  </tbody>\n</table>\n</div>"
     },
     "metadata": {},
     "execution_count": 13
    }
   ],
   "source": [
    "df['review']=df['review'].apply(remove_stopwords)\n",
    "df.head()"
   ]
  },
  {
   "cell_type": "code",
   "execution_count": 14,
   "metadata": {},
   "outputs": [],
   "source": [
    "stemmer= nltk.stem.SnowballStemmer('english') # Stemming"
   ]
  },
  {
   "cell_type": "code",
   "execution_count": 15,
   "metadata": {},
   "outputs": [],
   "source": [
    "stem_words = lambda x: ' '.join([stemmer.stem(word) for word in x.split()])"
   ]
  },
  {
   "cell_type": "code",
   "execution_count": 17,
   "metadata": {},
   "outputs": [
    {
     "output_type": "execute_result",
     "data": {
      "text/plain": [
       "                                                  review  sentiment_positive\n",
       "10343  movi scare hell good reason eeri music well wr...                   0\n",
       "14390  movi use random event histor signific backdrop...                   0\n",
       "74     upon view tobe hooper gem crocodil 2000 develo...                   0\n",
       "16749  bore stuff got 5 minut short better know 5 min...                   0\n",
       "30589  fair good movi true stori rubin hurrican carte...                   0"
      ],
      "text/html": "<div>\n<style scoped>\n    .dataframe tbody tr th:only-of-type {\n        vertical-align: middle;\n    }\n\n    .dataframe tbody tr th {\n        vertical-align: top;\n    }\n\n    .dataframe thead th {\n        text-align: right;\n    }\n</style>\n<table border=\"1\" class=\"dataframe\">\n  <thead>\n    <tr style=\"text-align: right;\">\n      <th></th>\n      <th>review</th>\n      <th>sentiment_positive</th>\n    </tr>\n  </thead>\n  <tbody>\n    <tr>\n      <th>10343</th>\n      <td>movi scare hell good reason eeri music well wr...</td>\n      <td>0</td>\n    </tr>\n    <tr>\n      <th>14390</th>\n      <td>movi use random event histor signific backdrop...</td>\n      <td>0</td>\n    </tr>\n    <tr>\n      <th>74</th>\n      <td>upon view tobe hooper gem crocodil 2000 develo...</td>\n      <td>0</td>\n    </tr>\n    <tr>\n      <th>16749</th>\n      <td>bore stuff got 5 minut short better know 5 min...</td>\n      <td>0</td>\n    </tr>\n    <tr>\n      <th>30589</th>\n      <td>fair good movi true stori rubin hurrican carte...</td>\n      <td>0</td>\n    </tr>\n  </tbody>\n</table>\n</div>"
     },
     "metadata": {},
     "execution_count": 17
    }
   ],
   "source": [
    "df['review']=df['review'].apply(stem_words)\n",
    "df.head()"
   ]
  },
  {
   "source": [],
   "cell_type": "markdown",
   "metadata": {}
  },
  {
   "cell_type": "code",
   "execution_count": 18,
   "metadata": {},
   "outputs": [],
   "source": [
    "df.to_csv('Processed_IMDB_Dataset.csv')"
   ]
  },
  {
   "source": [
    "### Transforming features into vectors"
   ],
   "cell_type": "markdown",
   "metadata": {}
  },
  {
   "cell_type": "code",
   "execution_count": 20,
   "metadata": {},
   "outputs": [],
   "source": [
    "df2 = pd.read_csv('Processed_IMDB_Dataset.csv')"
   ]
  },
  {
   "cell_type": "code",
   "execution_count": 21,
   "metadata": {},
   "outputs": [
    {
     "output_type": "execute_result",
     "data": {
      "text/plain": [
       "(20000, 500)"
      ]
     },
     "metadata": {},
     "execution_count": 21
    }
   ],
   "source": [
    "count_vec = CountVectorizer(max_features=500)\n",
    "X = count_vec.fit_transform(df2['review']).toarray() # transforming feature\n",
    "X.shape"
   ]
  },
  {
   "cell_type": "code",
   "execution_count": 22,
   "metadata": {},
   "outputs": [
    {
     "output_type": "execute_result",
     "data": {
      "text/plain": [
       "array([0, 0, 0, ..., 1, 1, 0], dtype=int64)"
      ]
     },
     "metadata": {},
     "execution_count": 22
    }
   ],
   "source": [
    "y = df2.iloc[:,-1].values # Labels\n",
    "y"
   ]
  },
  {
   "source": [
    "## Trainning and Testing our model using Naive Bayes classifier"
   ],
   "cell_type": "markdown",
   "metadata": {}
  },
  {
   "cell_type": "code",
   "execution_count": 23,
   "metadata": {},
   "outputs": [],
   "source": [
    "X_train,X_test,y_train,y_test=train_test_split(X,y,test_size=0.2,random_state=486) # Splitting our data into training snd testing data."
   ]
  },
  {
   "cell_type": "code",
   "execution_count": 24,
   "metadata": {},
   "outputs": [
    {
     "output_type": "execute_result",
     "data": {
      "text/plain": [
       "(16000, 500)"
      ]
     },
     "metadata": {},
     "execution_count": 24
    }
   ],
   "source": [
    "X_train.shape"
   ]
  },
  {
   "cell_type": "code",
   "execution_count": 22,
   "metadata": {},
   "outputs": [],
   "source": [
    "g_NB = GaussianNB()\n",
    "m_NB = MultinomialNB()\n",
    "b_NB = BernoulliNB()"
   ]
  },
  {
   "cell_type": "code",
   "execution_count": 23,
   "metadata": {},
   "outputs": [
    {
     "output_type": "execute_result",
     "data": {
      "text/plain": [
       "BernoulliNB()"
      ]
     },
     "metadata": {},
     "execution_count": 23
    }
   ],
   "source": [
    "# Fitting our data into Naive Bayes classifier\n",
    "g_NB.fit(X_train,y_train)\n",
    "m_NB.fit(X_train,y_train)\n",
    "b_NB.fit(X_train,y_train)"
   ]
  },
  {
   "cell_type": "code",
   "execution_count": 24,
   "metadata": {},
   "outputs": [],
   "source": [
    "# Predict from our trained model\n",
    "y_g_NB_pred = g_NB.predict(X_test)\n",
    "y_m_NB_pred = m_NB.predict(X_test)\n",
    "y_b_NB_pred = b_NB.predict(X_test)"
   ]
  },
  {
   "cell_type": "code",
   "execution_count": 25,
   "metadata": {},
   "outputs": [
    {
     "output_type": "stream",
     "name": "stdout",
     "text": [
      "The accuracy score of Gaussian Naive Bayes is: 0.803\nThe accuracy score of Multinomial Naive Bayes is: 0.82175\nThe accuracy score of Bernoulli Naive Bayes is: 0.81475\n"
     ]
    }
   ],
   "source": [
    "print(f\"The accuracy score of Gaussian Naive Bayes is: {accuracy_score(y_test,y_g_NB_pred)}\")\n",
    "print(f\"The accuracy score of Multinomial Naive Bayes is: {accuracy_score(y_test,y_m_NB_pred)}\")\n",
    "print(f\"The accuracy score of Bernoulli Naive Bayes is: {accuracy_score(y_test,y_b_NB_pred)}\")"
   ]
  },
  {
   "source": [
    "### Graphical comparison of accuracy "
   ],
   "cell_type": "markdown",
   "metadata": {}
  },
  {
   "cell_type": "code",
   "execution_count": 26,
   "metadata": {},
   "outputs": [
    {
     "output_type": "execute_result",
     "data": {
      "text/plain": [
       "<AxesSubplot:>"
      ]
     },
     "metadata": {},
     "execution_count": 26
    },
    {
     "output_type": "display_data",
     "data": {
      "text/plain": "<Figure size 432x288 with 1 Axes>",
      "image/svg+xml": "<?xml version=\"1.0\" encoding=\"utf-8\" standalone=\"no\"?>\r\n<!DOCTYPE svg PUBLIC \"-//W3C//DTD SVG 1.1//EN\"\r\n  \"http://www.w3.org/Graphics/SVG/1.1/DTD/svg11.dtd\">\r\n<svg height=\"248.518125pt\" version=\"1.1\" viewBox=\"0 0 372.103125 248.518125\" width=\"372.103125pt\" xmlns=\"http://www.w3.org/2000/svg\" xmlns:xlink=\"http://www.w3.org/1999/xlink\">\r\n <metadata>\r\n  <rdf:RDF xmlns:cc=\"http://creativecommons.org/ns#\" xmlns:dc=\"http://purl.org/dc/elements/1.1/\" xmlns:rdf=\"http://www.w3.org/1999/02/22-rdf-syntax-ns#\">\r\n   <cc:Work>\r\n    <dc:type rdf:resource=\"http://purl.org/dc/dcmitype/StillImage\"/>\r\n    <dc:date>2021-05-30T16:35:04.915554</dc:date>\r\n    <dc:format>image/svg+xml</dc:format>\r\n    <dc:creator>\r\n     <cc:Agent>\r\n      <dc:title>Matplotlib v3.4.2, https://matplotlib.org/</dc:title>\r\n     </cc:Agent>\r\n    </dc:creator>\r\n   </cc:Work>\r\n  </rdf:RDF>\r\n </metadata>\r\n <defs>\r\n  <style type=\"text/css\">*{stroke-linecap:butt;stroke-linejoin:round;}</style>\r\n </defs>\r\n <g id=\"figure_1\">\r\n  <g id=\"patch_1\">\r\n   <path d=\"M 0 248.518125 \r\nL 372.103125 248.518125 \r\nL 372.103125 0 \r\nL 0 0 \r\nz\r\n\" style=\"fill:none;\"/>\r\n  </g>\r\n  <g id=\"axes_1\">\r\n   <g id=\"patch_2\">\r\n    <path d=\"M 30.103125 224.64 \r\nL 364.903125 224.64 \r\nL 364.903125 7.2 \r\nL 30.103125 7.2 \r\nz\r\n\" style=\"fill:#ffffff;\"/>\r\n   </g>\r\n   <g id=\"patch_3\">\r\n    <path clip-path=\"url(#pece85444b9)\" d=\"M 41.263125 224.64 \r\nL 130.543125 224.64 \r\nL 130.543125 22.279393 \r\nL 41.263125 22.279393 \r\nz\r\n\" style=\"fill:#455681;\"/>\r\n   </g>\r\n   <g id=\"patch_4\">\r\n    <path clip-path=\"url(#pece85444b9)\" d=\"M 152.863125 224.64 \r\nL 242.143125 224.64 \r\nL 242.143125 17.554286 \r\nL 152.863125 17.554286 \r\nz\r\n\" style=\"fill:#2f837f;\"/>\r\n   </g>\r\n   <g id=\"patch_5\">\r\n    <path clip-path=\"url(#pece85444b9)\" d=\"M 264.463125 224.64 \r\nL 353.743125 224.64 \r\nL 353.743125 19.318326 \r\nL 264.463125 19.318326 \r\nz\r\n\" style=\"fill:#6cbc6e;\"/>\r\n   </g>\r\n   <g id=\"matplotlib.axis_1\">\r\n    <g id=\"xtick_1\">\r\n     <g id=\"line2d_1\">\r\n      <defs>\r\n       <path d=\"M 0 0 \r\nL 0 3.5 \r\n\" id=\"ma0236acee5\" style=\"stroke:#000000;stroke-width:0.8;\"/>\r\n      </defs>\r\n      <g>\r\n       <use style=\"stroke:#000000;stroke-width:0.8;\" x=\"85.903125\" xlink:href=\"#ma0236acee5\" y=\"224.64\"/>\r\n      </g>\r\n     </g>\r\n     <g id=\"text_1\">\r\n      <!-- Gaussian NB -->\r\n      <g transform=\"translate(54.204688 239.238438)scale(0.1 -0.1)\">\r\n       <defs>\r\n        <path d=\"M 3809 666 \r\nL 3809 1919 \r\nL 2778 1919 \r\nL 2778 2438 \r\nL 4434 2438 \r\nL 4434 434 \r\nQ 4069 175 3628 42 \r\nQ 3188 -91 2688 -91 \r\nQ 1594 -91 976 548 \r\nQ 359 1188 359 2328 \r\nQ 359 3472 976 4111 \r\nQ 1594 4750 2688 4750 \r\nQ 3144 4750 3555 4637 \r\nQ 3966 4525 4313 4306 \r\nL 4313 3634 \r\nQ 3963 3931 3569 4081 \r\nQ 3175 4231 2741 4231 \r\nQ 1884 4231 1454 3753 \r\nQ 1025 3275 1025 2328 \r\nQ 1025 1384 1454 906 \r\nQ 1884 428 2741 428 \r\nQ 3075 428 3337 486 \r\nQ 3600 544 3809 666 \r\nz\r\n\" id=\"DejaVuSans-47\" transform=\"scale(0.015625)\"/>\r\n        <path d=\"M 2194 1759 \r\nQ 1497 1759 1228 1600 \r\nQ 959 1441 959 1056 \r\nQ 959 750 1161 570 \r\nQ 1363 391 1709 391 \r\nQ 2188 391 2477 730 \r\nQ 2766 1069 2766 1631 \r\nL 2766 1759 \r\nL 2194 1759 \r\nz\r\nM 3341 1997 \r\nL 3341 0 \r\nL 2766 0 \r\nL 2766 531 \r\nQ 2569 213 2275 61 \r\nQ 1981 -91 1556 -91 \r\nQ 1019 -91 701 211 \r\nQ 384 513 384 1019 \r\nQ 384 1609 779 1909 \r\nQ 1175 2209 1959 2209 \r\nL 2766 2209 \r\nL 2766 2266 \r\nQ 2766 2663 2505 2880 \r\nQ 2244 3097 1772 3097 \r\nQ 1472 3097 1187 3025 \r\nQ 903 2953 641 2809 \r\nL 641 3341 \r\nQ 956 3463 1253 3523 \r\nQ 1550 3584 1831 3584 \r\nQ 2591 3584 2966 3190 \r\nQ 3341 2797 3341 1997 \r\nz\r\n\" id=\"DejaVuSans-61\" transform=\"scale(0.015625)\"/>\r\n        <path d=\"M 544 1381 \r\nL 544 3500 \r\nL 1119 3500 \r\nL 1119 1403 \r\nQ 1119 906 1312 657 \r\nQ 1506 409 1894 409 \r\nQ 2359 409 2629 706 \r\nQ 2900 1003 2900 1516 \r\nL 2900 3500 \r\nL 3475 3500 \r\nL 3475 0 \r\nL 2900 0 \r\nL 2900 538 \r\nQ 2691 219 2414 64 \r\nQ 2138 -91 1772 -91 \r\nQ 1169 -91 856 284 \r\nQ 544 659 544 1381 \r\nz\r\nM 1991 3584 \r\nL 1991 3584 \r\nz\r\n\" id=\"DejaVuSans-75\" transform=\"scale(0.015625)\"/>\r\n        <path d=\"M 2834 3397 \r\nL 2834 2853 \r\nQ 2591 2978 2328 3040 \r\nQ 2066 3103 1784 3103 \r\nQ 1356 3103 1142 2972 \r\nQ 928 2841 928 2578 \r\nQ 928 2378 1081 2264 \r\nQ 1234 2150 1697 2047 \r\nL 1894 2003 \r\nQ 2506 1872 2764 1633 \r\nQ 3022 1394 3022 966 \r\nQ 3022 478 2636 193 \r\nQ 2250 -91 1575 -91 \r\nQ 1294 -91 989 -36 \r\nQ 684 19 347 128 \r\nL 347 722 \r\nQ 666 556 975 473 \r\nQ 1284 391 1588 391 \r\nQ 1994 391 2212 530 \r\nQ 2431 669 2431 922 \r\nQ 2431 1156 2273 1281 \r\nQ 2116 1406 1581 1522 \r\nL 1381 1569 \r\nQ 847 1681 609 1914 \r\nQ 372 2147 372 2553 \r\nQ 372 3047 722 3315 \r\nQ 1072 3584 1716 3584 \r\nQ 2034 3584 2315 3537 \r\nQ 2597 3491 2834 3397 \r\nz\r\n\" id=\"DejaVuSans-73\" transform=\"scale(0.015625)\"/>\r\n        <path d=\"M 603 3500 \r\nL 1178 3500 \r\nL 1178 0 \r\nL 603 0 \r\nL 603 3500 \r\nz\r\nM 603 4863 \r\nL 1178 4863 \r\nL 1178 4134 \r\nL 603 4134 \r\nL 603 4863 \r\nz\r\n\" id=\"DejaVuSans-69\" transform=\"scale(0.015625)\"/>\r\n        <path d=\"M 3513 2113 \r\nL 3513 0 \r\nL 2938 0 \r\nL 2938 2094 \r\nQ 2938 2591 2744 2837 \r\nQ 2550 3084 2163 3084 \r\nQ 1697 3084 1428 2787 \r\nQ 1159 2491 1159 1978 \r\nL 1159 0 \r\nL 581 0 \r\nL 581 3500 \r\nL 1159 3500 \r\nL 1159 2956 \r\nQ 1366 3272 1645 3428 \r\nQ 1925 3584 2291 3584 \r\nQ 2894 3584 3203 3211 \r\nQ 3513 2838 3513 2113 \r\nz\r\n\" id=\"DejaVuSans-6e\" transform=\"scale(0.015625)\"/>\r\n        <path id=\"DejaVuSans-20\" transform=\"scale(0.015625)\"/>\r\n        <path d=\"M 628 4666 \r\nL 1478 4666 \r\nL 3547 763 \r\nL 3547 4666 \r\nL 4159 4666 \r\nL 4159 0 \r\nL 3309 0 \r\nL 1241 3903 \r\nL 1241 0 \r\nL 628 0 \r\nL 628 4666 \r\nz\r\n\" id=\"DejaVuSans-4e\" transform=\"scale(0.015625)\"/>\r\n        <path d=\"M 1259 2228 \r\nL 1259 519 \r\nL 2272 519 \r\nQ 2781 519 3026 730 \r\nQ 3272 941 3272 1375 \r\nQ 3272 1813 3026 2020 \r\nQ 2781 2228 2272 2228 \r\nL 1259 2228 \r\nz\r\nM 1259 4147 \r\nL 1259 2741 \r\nL 2194 2741 \r\nQ 2656 2741 2882 2914 \r\nQ 3109 3088 3109 3444 \r\nQ 3109 3797 2882 3972 \r\nQ 2656 4147 2194 4147 \r\nL 1259 4147 \r\nz\r\nM 628 4666 \r\nL 2241 4666 \r\nQ 2963 4666 3353 4366 \r\nQ 3744 4066 3744 3513 \r\nQ 3744 3084 3544 2831 \r\nQ 3344 2578 2956 2516 \r\nQ 3422 2416 3680 2098 \r\nQ 3938 1781 3938 1306 \r\nQ 3938 681 3513 340 \r\nQ 3088 0 2303 0 \r\nL 628 0 \r\nL 628 4666 \r\nz\r\n\" id=\"DejaVuSans-42\" transform=\"scale(0.015625)\"/>\r\n       </defs>\r\n       <use xlink:href=\"#DejaVuSans-47\"/>\r\n       <use x=\"77.490234\" xlink:href=\"#DejaVuSans-61\"/>\r\n       <use x=\"138.769531\" xlink:href=\"#DejaVuSans-75\"/>\r\n       <use x=\"202.148438\" xlink:href=\"#DejaVuSans-73\"/>\r\n       <use x=\"254.248047\" xlink:href=\"#DejaVuSans-73\"/>\r\n       <use x=\"306.347656\" xlink:href=\"#DejaVuSans-69\"/>\r\n       <use x=\"334.130859\" xlink:href=\"#DejaVuSans-61\"/>\r\n       <use x=\"395.410156\" xlink:href=\"#DejaVuSans-6e\"/>\r\n       <use x=\"458.789062\" xlink:href=\"#DejaVuSans-20\"/>\r\n       <use x=\"490.576172\" xlink:href=\"#DejaVuSans-4e\"/>\r\n       <use x=\"565.380859\" xlink:href=\"#DejaVuSans-42\"/>\r\n      </g>\r\n     </g>\r\n    </g>\r\n    <g id=\"xtick_2\">\r\n     <g id=\"line2d_2\">\r\n      <g>\r\n       <use style=\"stroke:#000000;stroke-width:0.8;\" x=\"197.503125\" xlink:href=\"#ma0236acee5\" y=\"224.64\"/>\r\n      </g>\r\n     </g>\r\n     <g id=\"text_2\">\r\n      <!-- Multinomial NB -->\r\n      <g transform=\"translate(159.58125 239.238438)scale(0.1 -0.1)\">\r\n       <defs>\r\n        <path d=\"M 628 4666 \r\nL 1569 4666 \r\nL 2759 1491 \r\nL 3956 4666 \r\nL 4897 4666 \r\nL 4897 0 \r\nL 4281 0 \r\nL 4281 4097 \r\nL 3078 897 \r\nL 2444 897 \r\nL 1241 4097 \r\nL 1241 0 \r\nL 628 0 \r\nL 628 4666 \r\nz\r\n\" id=\"DejaVuSans-4d\" transform=\"scale(0.015625)\"/>\r\n        <path d=\"M 603 4863 \r\nL 1178 4863 \r\nL 1178 0 \r\nL 603 0 \r\nL 603 4863 \r\nz\r\n\" id=\"DejaVuSans-6c\" transform=\"scale(0.015625)\"/>\r\n        <path d=\"M 1172 4494 \r\nL 1172 3500 \r\nL 2356 3500 \r\nL 2356 3053 \r\nL 1172 3053 \r\nL 1172 1153 \r\nQ 1172 725 1289 603 \r\nQ 1406 481 1766 481 \r\nL 2356 481 \r\nL 2356 0 \r\nL 1766 0 \r\nQ 1100 0 847 248 \r\nQ 594 497 594 1153 \r\nL 594 3053 \r\nL 172 3053 \r\nL 172 3500 \r\nL 594 3500 \r\nL 594 4494 \r\nL 1172 4494 \r\nz\r\n\" id=\"DejaVuSans-74\" transform=\"scale(0.015625)\"/>\r\n        <path d=\"M 1959 3097 \r\nQ 1497 3097 1228 2736 \r\nQ 959 2375 959 1747 \r\nQ 959 1119 1226 758 \r\nQ 1494 397 1959 397 \r\nQ 2419 397 2687 759 \r\nQ 2956 1122 2956 1747 \r\nQ 2956 2369 2687 2733 \r\nQ 2419 3097 1959 3097 \r\nz\r\nM 1959 3584 \r\nQ 2709 3584 3137 3096 \r\nQ 3566 2609 3566 1747 \r\nQ 3566 888 3137 398 \r\nQ 2709 -91 1959 -91 \r\nQ 1206 -91 779 398 \r\nQ 353 888 353 1747 \r\nQ 353 2609 779 3096 \r\nQ 1206 3584 1959 3584 \r\nz\r\n\" id=\"DejaVuSans-6f\" transform=\"scale(0.015625)\"/>\r\n        <path d=\"M 3328 2828 \r\nQ 3544 3216 3844 3400 \r\nQ 4144 3584 4550 3584 \r\nQ 5097 3584 5394 3201 \r\nQ 5691 2819 5691 2113 \r\nL 5691 0 \r\nL 5113 0 \r\nL 5113 2094 \r\nQ 5113 2597 4934 2840 \r\nQ 4756 3084 4391 3084 \r\nQ 3944 3084 3684 2787 \r\nQ 3425 2491 3425 1978 \r\nL 3425 0 \r\nL 2847 0 \r\nL 2847 2094 \r\nQ 2847 2600 2669 2842 \r\nQ 2491 3084 2119 3084 \r\nQ 1678 3084 1418 2786 \r\nQ 1159 2488 1159 1978 \r\nL 1159 0 \r\nL 581 0 \r\nL 581 3500 \r\nL 1159 3500 \r\nL 1159 2956 \r\nQ 1356 3278 1631 3431 \r\nQ 1906 3584 2284 3584 \r\nQ 2666 3584 2933 3390 \r\nQ 3200 3197 3328 2828 \r\nz\r\n\" id=\"DejaVuSans-6d\" transform=\"scale(0.015625)\"/>\r\n       </defs>\r\n       <use xlink:href=\"#DejaVuSans-4d\"/>\r\n       <use x=\"86.279297\" xlink:href=\"#DejaVuSans-75\"/>\r\n       <use x=\"149.658203\" xlink:href=\"#DejaVuSans-6c\"/>\r\n       <use x=\"177.441406\" xlink:href=\"#DejaVuSans-74\"/>\r\n       <use x=\"216.650391\" xlink:href=\"#DejaVuSans-69\"/>\r\n       <use x=\"244.433594\" xlink:href=\"#DejaVuSans-6e\"/>\r\n       <use x=\"307.8125\" xlink:href=\"#DejaVuSans-6f\"/>\r\n       <use x=\"368.994141\" xlink:href=\"#DejaVuSans-6d\"/>\r\n       <use x=\"466.40625\" xlink:href=\"#DejaVuSans-69\"/>\r\n       <use x=\"494.189453\" xlink:href=\"#DejaVuSans-61\"/>\r\n       <use x=\"555.46875\" xlink:href=\"#DejaVuSans-6c\"/>\r\n       <use x=\"583.251953\" xlink:href=\"#DejaVuSans-20\"/>\r\n       <use x=\"615.039062\" xlink:href=\"#DejaVuSans-4e\"/>\r\n       <use x=\"689.84375\" xlink:href=\"#DejaVuSans-42\"/>\r\n      </g>\r\n     </g>\r\n    </g>\r\n    <g id=\"xtick_3\">\r\n     <g id=\"line2d_3\">\r\n      <g>\r\n       <use style=\"stroke:#000000;stroke-width:0.8;\" x=\"309.103125\" xlink:href=\"#ma0236acee5\" y=\"224.64\"/>\r\n      </g>\r\n     </g>\r\n     <g id=\"text_3\">\r\n      <!-- Bernoulli NB -->\r\n      <g transform=\"translate(278.303906 239.238438)scale(0.1 -0.1)\">\r\n       <defs>\r\n        <path d=\"M 3597 1894 \r\nL 3597 1613 \r\nL 953 1613 \r\nQ 991 1019 1311 708 \r\nQ 1631 397 2203 397 \r\nQ 2534 397 2845 478 \r\nQ 3156 559 3463 722 \r\nL 3463 178 \r\nQ 3153 47 2828 -22 \r\nQ 2503 -91 2169 -91 \r\nQ 1331 -91 842 396 \r\nQ 353 884 353 1716 \r\nQ 353 2575 817 3079 \r\nQ 1281 3584 2069 3584 \r\nQ 2775 3584 3186 3129 \r\nQ 3597 2675 3597 1894 \r\nz\r\nM 3022 2063 \r\nQ 3016 2534 2758 2815 \r\nQ 2500 3097 2075 3097 \r\nQ 1594 3097 1305 2825 \r\nQ 1016 2553 972 2059 \r\nL 3022 2063 \r\nz\r\n\" id=\"DejaVuSans-65\" transform=\"scale(0.015625)\"/>\r\n        <path d=\"M 2631 2963 \r\nQ 2534 3019 2420 3045 \r\nQ 2306 3072 2169 3072 \r\nQ 1681 3072 1420 2755 \r\nQ 1159 2438 1159 1844 \r\nL 1159 0 \r\nL 581 0 \r\nL 581 3500 \r\nL 1159 3500 \r\nL 1159 2956 \r\nQ 1341 3275 1631 3429 \r\nQ 1922 3584 2338 3584 \r\nQ 2397 3584 2469 3576 \r\nQ 2541 3569 2628 3553 \r\nL 2631 2963 \r\nz\r\n\" id=\"DejaVuSans-72\" transform=\"scale(0.015625)\"/>\r\n       </defs>\r\n       <use xlink:href=\"#DejaVuSans-42\"/>\r\n       <use x=\"68.603516\" xlink:href=\"#DejaVuSans-65\"/>\r\n       <use x=\"130.126953\" xlink:href=\"#DejaVuSans-72\"/>\r\n       <use x=\"169.490234\" xlink:href=\"#DejaVuSans-6e\"/>\r\n       <use x=\"232.869141\" xlink:href=\"#DejaVuSans-6f\"/>\r\n       <use x=\"294.050781\" xlink:href=\"#DejaVuSans-75\"/>\r\n       <use x=\"357.429688\" xlink:href=\"#DejaVuSans-6c\"/>\r\n       <use x=\"385.212891\" xlink:href=\"#DejaVuSans-6c\"/>\r\n       <use x=\"412.996094\" xlink:href=\"#DejaVuSans-69\"/>\r\n       <use x=\"440.779297\" xlink:href=\"#DejaVuSans-20\"/>\r\n       <use x=\"472.566406\" xlink:href=\"#DejaVuSans-4e\"/>\r\n       <use x=\"547.371094\" xlink:href=\"#DejaVuSans-42\"/>\r\n      </g>\r\n     </g>\r\n    </g>\r\n   </g>\r\n   <g id=\"matplotlib.axis_2\">\r\n    <g id=\"ytick_1\">\r\n     <g id=\"line2d_4\">\r\n      <defs>\r\n       <path d=\"M 0 0 \r\nL -3.5 0 \r\n\" id=\"m0190f69284\" style=\"stroke:#000000;stroke-width:0.8;\"/>\r\n      </defs>\r\n      <g>\r\n       <use style=\"stroke:#000000;stroke-width:0.8;\" x=\"30.103125\" xlink:href=\"#m0190f69284\" y=\"224.64\"/>\r\n      </g>\r\n     </g>\r\n     <g id=\"text_4\">\r\n      <!-- 0.0 -->\r\n      <g transform=\"translate(7.2 228.439219)scale(0.1 -0.1)\">\r\n       <defs>\r\n        <path d=\"M 2034 4250 \r\nQ 1547 4250 1301 3770 \r\nQ 1056 3291 1056 2328 \r\nQ 1056 1369 1301 889 \r\nQ 1547 409 2034 409 \r\nQ 2525 409 2770 889 \r\nQ 3016 1369 3016 2328 \r\nQ 3016 3291 2770 3770 \r\nQ 2525 4250 2034 4250 \r\nz\r\nM 2034 4750 \r\nQ 2819 4750 3233 4129 \r\nQ 3647 3509 3647 2328 \r\nQ 3647 1150 3233 529 \r\nQ 2819 -91 2034 -91 \r\nQ 1250 -91 836 529 \r\nQ 422 1150 422 2328 \r\nQ 422 3509 836 4129 \r\nQ 1250 4750 2034 4750 \r\nz\r\n\" id=\"DejaVuSans-30\" transform=\"scale(0.015625)\"/>\r\n        <path d=\"M 684 794 \r\nL 1344 794 \r\nL 1344 0 \r\nL 684 0 \r\nL 684 794 \r\nz\r\n\" id=\"DejaVuSans-2e\" transform=\"scale(0.015625)\"/>\r\n       </defs>\r\n       <use xlink:href=\"#DejaVuSans-30\"/>\r\n       <use x=\"63.623047\" xlink:href=\"#DejaVuSans-2e\"/>\r\n       <use x=\"95.410156\" xlink:href=\"#DejaVuSans-30\"/>\r\n      </g>\r\n     </g>\r\n    </g>\r\n    <g id=\"ytick_2\">\r\n     <g id=\"line2d_5\">\r\n      <g>\r\n       <use style=\"stroke:#000000;stroke-width:0.8;\" x=\"30.103125\" xlink:href=\"#m0190f69284\" y=\"199.439426\"/>\r\n      </g>\r\n     </g>\r\n     <g id=\"text_5\">\r\n      <!-- 0.1 -->\r\n      <g transform=\"translate(7.2 203.238645)scale(0.1 -0.1)\">\r\n       <defs>\r\n        <path d=\"M 794 531 \r\nL 1825 531 \r\nL 1825 4091 \r\nL 703 3866 \r\nL 703 4441 \r\nL 1819 4666 \r\nL 2450 4666 \r\nL 2450 531 \r\nL 3481 531 \r\nL 3481 0 \r\nL 794 0 \r\nL 794 531 \r\nz\r\n\" id=\"DejaVuSans-31\" transform=\"scale(0.015625)\"/>\r\n       </defs>\r\n       <use xlink:href=\"#DejaVuSans-30\"/>\r\n       <use x=\"63.623047\" xlink:href=\"#DejaVuSans-2e\"/>\r\n       <use x=\"95.410156\" xlink:href=\"#DejaVuSans-31\"/>\r\n      </g>\r\n     </g>\r\n    </g>\r\n    <g id=\"ytick_3\">\r\n     <g id=\"line2d_6\">\r\n      <g>\r\n       <use style=\"stroke:#000000;stroke-width:0.8;\" x=\"30.103125\" xlink:href=\"#m0190f69284\" y=\"174.238853\"/>\r\n      </g>\r\n     </g>\r\n     <g id=\"text_6\">\r\n      <!-- 0.2 -->\r\n      <g transform=\"translate(7.2 178.038071)scale(0.1 -0.1)\">\r\n       <defs>\r\n        <path d=\"M 1228 531 \r\nL 3431 531 \r\nL 3431 0 \r\nL 469 0 \r\nL 469 531 \r\nQ 828 903 1448 1529 \r\nQ 2069 2156 2228 2338 \r\nQ 2531 2678 2651 2914 \r\nQ 2772 3150 2772 3378 \r\nQ 2772 3750 2511 3984 \r\nQ 2250 4219 1831 4219 \r\nQ 1534 4219 1204 4116 \r\nQ 875 4013 500 3803 \r\nL 500 4441 \r\nQ 881 4594 1212 4672 \r\nQ 1544 4750 1819 4750 \r\nQ 2544 4750 2975 4387 \r\nQ 3406 4025 3406 3419 \r\nQ 3406 3131 3298 2873 \r\nQ 3191 2616 2906 2266 \r\nQ 2828 2175 2409 1742 \r\nQ 1991 1309 1228 531 \r\nz\r\n\" id=\"DejaVuSans-32\" transform=\"scale(0.015625)\"/>\r\n       </defs>\r\n       <use xlink:href=\"#DejaVuSans-30\"/>\r\n       <use x=\"63.623047\" xlink:href=\"#DejaVuSans-2e\"/>\r\n       <use x=\"95.410156\" xlink:href=\"#DejaVuSans-32\"/>\r\n      </g>\r\n     </g>\r\n    </g>\r\n    <g id=\"ytick_4\">\r\n     <g id=\"line2d_7\">\r\n      <g>\r\n       <use style=\"stroke:#000000;stroke-width:0.8;\" x=\"30.103125\" xlink:href=\"#m0190f69284\" y=\"149.038279\"/>\r\n      </g>\r\n     </g>\r\n     <g id=\"text_7\">\r\n      <!-- 0.3 -->\r\n      <g transform=\"translate(7.2 152.837498)scale(0.1 -0.1)\">\r\n       <defs>\r\n        <path d=\"M 2597 2516 \r\nQ 3050 2419 3304 2112 \r\nQ 3559 1806 3559 1356 \r\nQ 3559 666 3084 287 \r\nQ 2609 -91 1734 -91 \r\nQ 1441 -91 1130 -33 \r\nQ 819 25 488 141 \r\nL 488 750 \r\nQ 750 597 1062 519 \r\nQ 1375 441 1716 441 \r\nQ 2309 441 2620 675 \r\nQ 2931 909 2931 1356 \r\nQ 2931 1769 2642 2001 \r\nQ 2353 2234 1838 2234 \r\nL 1294 2234 \r\nL 1294 2753 \r\nL 1863 2753 \r\nQ 2328 2753 2575 2939 \r\nQ 2822 3125 2822 3475 \r\nQ 2822 3834 2567 4026 \r\nQ 2313 4219 1838 4219 \r\nQ 1578 4219 1281 4162 \r\nQ 984 4106 628 3988 \r\nL 628 4550 \r\nQ 988 4650 1302 4700 \r\nQ 1616 4750 1894 4750 \r\nQ 2613 4750 3031 4423 \r\nQ 3450 4097 3450 3541 \r\nQ 3450 3153 3228 2886 \r\nQ 3006 2619 2597 2516 \r\nz\r\n\" id=\"DejaVuSans-33\" transform=\"scale(0.015625)\"/>\r\n       </defs>\r\n       <use xlink:href=\"#DejaVuSans-30\"/>\r\n       <use x=\"63.623047\" xlink:href=\"#DejaVuSans-2e\"/>\r\n       <use x=\"95.410156\" xlink:href=\"#DejaVuSans-33\"/>\r\n      </g>\r\n     </g>\r\n    </g>\r\n    <g id=\"ytick_5\">\r\n     <g id=\"line2d_8\">\r\n      <g>\r\n       <use style=\"stroke:#000000;stroke-width:0.8;\" x=\"30.103125\" xlink:href=\"#m0190f69284\" y=\"123.837705\"/>\r\n      </g>\r\n     </g>\r\n     <g id=\"text_8\">\r\n      <!-- 0.4 -->\r\n      <g transform=\"translate(7.2 127.636924)scale(0.1 -0.1)\">\r\n       <defs>\r\n        <path d=\"M 2419 4116 \r\nL 825 1625 \r\nL 2419 1625 \r\nL 2419 4116 \r\nz\r\nM 2253 4666 \r\nL 3047 4666 \r\nL 3047 1625 \r\nL 3713 1625 \r\nL 3713 1100 \r\nL 3047 1100 \r\nL 3047 0 \r\nL 2419 0 \r\nL 2419 1100 \r\nL 313 1100 \r\nL 313 1709 \r\nL 2253 4666 \r\nz\r\n\" id=\"DejaVuSans-34\" transform=\"scale(0.015625)\"/>\r\n       </defs>\r\n       <use xlink:href=\"#DejaVuSans-30\"/>\r\n       <use x=\"63.623047\" xlink:href=\"#DejaVuSans-2e\"/>\r\n       <use x=\"95.410156\" xlink:href=\"#DejaVuSans-34\"/>\r\n      </g>\r\n     </g>\r\n    </g>\r\n    <g id=\"ytick_6\">\r\n     <g id=\"line2d_9\">\r\n      <g>\r\n       <use style=\"stroke:#000000;stroke-width:0.8;\" x=\"30.103125\" xlink:href=\"#m0190f69284\" y=\"98.637132\"/>\r\n      </g>\r\n     </g>\r\n     <g id=\"text_9\">\r\n      <!-- 0.5 -->\r\n      <g transform=\"translate(7.2 102.43635)scale(0.1 -0.1)\">\r\n       <defs>\r\n        <path d=\"M 691 4666 \r\nL 3169 4666 \r\nL 3169 4134 \r\nL 1269 4134 \r\nL 1269 2991 \r\nQ 1406 3038 1543 3061 \r\nQ 1681 3084 1819 3084 \r\nQ 2600 3084 3056 2656 \r\nQ 3513 2228 3513 1497 \r\nQ 3513 744 3044 326 \r\nQ 2575 -91 1722 -91 \r\nQ 1428 -91 1123 -41 \r\nQ 819 9 494 109 \r\nL 494 744 \r\nQ 775 591 1075 516 \r\nQ 1375 441 1709 441 \r\nQ 2250 441 2565 725 \r\nQ 2881 1009 2881 1497 \r\nQ 2881 1984 2565 2268 \r\nQ 2250 2553 1709 2553 \r\nQ 1456 2553 1204 2497 \r\nQ 953 2441 691 2322 \r\nL 691 4666 \r\nz\r\n\" id=\"DejaVuSans-35\" transform=\"scale(0.015625)\"/>\r\n       </defs>\r\n       <use xlink:href=\"#DejaVuSans-30\"/>\r\n       <use x=\"63.623047\" xlink:href=\"#DejaVuSans-2e\"/>\r\n       <use x=\"95.410156\" xlink:href=\"#DejaVuSans-35\"/>\r\n      </g>\r\n     </g>\r\n    </g>\r\n    <g id=\"ytick_7\">\r\n     <g id=\"line2d_10\">\r\n      <g>\r\n       <use style=\"stroke:#000000;stroke-width:0.8;\" x=\"30.103125\" xlink:href=\"#m0190f69284\" y=\"73.436558\"/>\r\n      </g>\r\n     </g>\r\n     <g id=\"text_10\">\r\n      <!-- 0.6 -->\r\n      <g transform=\"translate(7.2 77.235777)scale(0.1 -0.1)\">\r\n       <defs>\r\n        <path d=\"M 2113 2584 \r\nQ 1688 2584 1439 2293 \r\nQ 1191 2003 1191 1497 \r\nQ 1191 994 1439 701 \r\nQ 1688 409 2113 409 \r\nQ 2538 409 2786 701 \r\nQ 3034 994 3034 1497 \r\nQ 3034 2003 2786 2293 \r\nQ 2538 2584 2113 2584 \r\nz\r\nM 3366 4563 \r\nL 3366 3988 \r\nQ 3128 4100 2886 4159 \r\nQ 2644 4219 2406 4219 \r\nQ 1781 4219 1451 3797 \r\nQ 1122 3375 1075 2522 \r\nQ 1259 2794 1537 2939 \r\nQ 1816 3084 2150 3084 \r\nQ 2853 3084 3261 2657 \r\nQ 3669 2231 3669 1497 \r\nQ 3669 778 3244 343 \r\nQ 2819 -91 2113 -91 \r\nQ 1303 -91 875 529 \r\nQ 447 1150 447 2328 \r\nQ 447 3434 972 4092 \r\nQ 1497 4750 2381 4750 \r\nQ 2619 4750 2861 4703 \r\nQ 3103 4656 3366 4563 \r\nz\r\n\" id=\"DejaVuSans-36\" transform=\"scale(0.015625)\"/>\r\n       </defs>\r\n       <use xlink:href=\"#DejaVuSans-30\"/>\r\n       <use x=\"63.623047\" xlink:href=\"#DejaVuSans-2e\"/>\r\n       <use x=\"95.410156\" xlink:href=\"#DejaVuSans-36\"/>\r\n      </g>\r\n     </g>\r\n    </g>\r\n    <g id=\"ytick_8\">\r\n     <g id=\"line2d_11\">\r\n      <g>\r\n       <use style=\"stroke:#000000;stroke-width:0.8;\" x=\"30.103125\" xlink:href=\"#m0190f69284\" y=\"48.235984\"/>\r\n      </g>\r\n     </g>\r\n     <g id=\"text_11\">\r\n      <!-- 0.7 -->\r\n      <g transform=\"translate(7.2 52.035203)scale(0.1 -0.1)\">\r\n       <defs>\r\n        <path d=\"M 525 4666 \r\nL 3525 4666 \r\nL 3525 4397 \r\nL 1831 0 \r\nL 1172 0 \r\nL 2766 4134 \r\nL 525 4134 \r\nL 525 4666 \r\nz\r\n\" id=\"DejaVuSans-37\" transform=\"scale(0.015625)\"/>\r\n       </defs>\r\n       <use xlink:href=\"#DejaVuSans-30\"/>\r\n       <use x=\"63.623047\" xlink:href=\"#DejaVuSans-2e\"/>\r\n       <use x=\"95.410156\" xlink:href=\"#DejaVuSans-37\"/>\r\n      </g>\r\n     </g>\r\n    </g>\r\n    <g id=\"ytick_9\">\r\n     <g id=\"line2d_12\">\r\n      <g>\r\n       <use style=\"stroke:#000000;stroke-width:0.8;\" x=\"30.103125\" xlink:href=\"#m0190f69284\" y=\"23.03541\"/>\r\n      </g>\r\n     </g>\r\n     <g id=\"text_12\">\r\n      <!-- 0.8 -->\r\n      <g transform=\"translate(7.2 26.834629)scale(0.1 -0.1)\">\r\n       <defs>\r\n        <path d=\"M 2034 2216 \r\nQ 1584 2216 1326 1975 \r\nQ 1069 1734 1069 1313 \r\nQ 1069 891 1326 650 \r\nQ 1584 409 2034 409 \r\nQ 2484 409 2743 651 \r\nQ 3003 894 3003 1313 \r\nQ 3003 1734 2745 1975 \r\nQ 2488 2216 2034 2216 \r\nz\r\nM 1403 2484 \r\nQ 997 2584 770 2862 \r\nQ 544 3141 544 3541 \r\nQ 544 4100 942 4425 \r\nQ 1341 4750 2034 4750 \r\nQ 2731 4750 3128 4425 \r\nQ 3525 4100 3525 3541 \r\nQ 3525 3141 3298 2862 \r\nQ 3072 2584 2669 2484 \r\nQ 3125 2378 3379 2068 \r\nQ 3634 1759 3634 1313 \r\nQ 3634 634 3220 271 \r\nQ 2806 -91 2034 -91 \r\nQ 1263 -91 848 271 \r\nQ 434 634 434 1313 \r\nQ 434 1759 690 2068 \r\nQ 947 2378 1403 2484 \r\nz\r\nM 1172 3481 \r\nQ 1172 3119 1398 2916 \r\nQ 1625 2713 2034 2713 \r\nQ 2441 2713 2670 2916 \r\nQ 2900 3119 2900 3481 \r\nQ 2900 3844 2670 4047 \r\nQ 2441 4250 2034 4250 \r\nQ 1625 4250 1398 4047 \r\nQ 1172 3844 1172 3481 \r\nz\r\n\" id=\"DejaVuSans-38\" transform=\"scale(0.015625)\"/>\r\n       </defs>\r\n       <use xlink:href=\"#DejaVuSans-30\"/>\r\n       <use x=\"63.623047\" xlink:href=\"#DejaVuSans-2e\"/>\r\n       <use x=\"95.410156\" xlink:href=\"#DejaVuSans-38\"/>\r\n      </g>\r\n     </g>\r\n    </g>\r\n   </g>\r\n   <g id=\"line2d_13\">\r\n    <path clip-path=\"url(#pece85444b9)\" style=\"fill:none;stroke:#424242;stroke-linecap:square;stroke-width:2.7;\"/>\r\n   </g>\r\n   <g id=\"line2d_14\">\r\n    <path clip-path=\"url(#pece85444b9)\" style=\"fill:none;stroke:#424242;stroke-linecap:square;stroke-width:2.7;\"/>\r\n   </g>\r\n   <g id=\"line2d_15\">\r\n    <path clip-path=\"url(#pece85444b9)\" style=\"fill:none;stroke:#424242;stroke-linecap:square;stroke-width:2.7;\"/>\r\n   </g>\r\n   <g id=\"patch_6\">\r\n    <path d=\"M 30.103125 224.64 \r\nL 30.103125 7.2 \r\n\" style=\"fill:none;stroke:#000000;stroke-linecap:square;stroke-linejoin:miter;stroke-width:0.8;\"/>\r\n   </g>\r\n   <g id=\"patch_7\">\r\n    <path d=\"M 364.903125 224.64 \r\nL 364.903125 7.2 \r\n\" style=\"fill:none;stroke:#000000;stroke-linecap:square;stroke-linejoin:miter;stroke-width:0.8;\"/>\r\n   </g>\r\n   <g id=\"patch_8\">\r\n    <path d=\"M 30.103125 224.64 \r\nL 364.903125 224.64 \r\n\" style=\"fill:none;stroke:#000000;stroke-linecap:square;stroke-linejoin:miter;stroke-width:0.8;\"/>\r\n   </g>\r\n   <g id=\"patch_9\">\r\n    <path d=\"M 30.103125 7.2 \r\nL 364.903125 7.2 \r\n\" style=\"fill:none;stroke:#000000;stroke-linecap:square;stroke-linejoin:miter;stroke-width:0.8;\"/>\r\n   </g>\r\n  </g>\r\n </g>\r\n <defs>\r\n  <clipPath id=\"pece85444b9\">\r\n   <rect height=\"217.44\" width=\"334.8\" x=\"30.103125\" y=\"7.2\"/>\r\n  </clipPath>\r\n </defs>\r\n</svg>\r\n",
      "image/png": "[encoded data removed]"
     },
     "metadata": {
      "needs_background": "light"
     }
    }
   ],
   "source": [
    "sns.barplot(x=['Gaussian NB','Multinomial NB','Bernoulli NB'],\n",
    "            y=[accuracy_score(y_test,y_g_NB_pred),accuracy_score(y_test,y_m_NB_pred),accuracy_score(y_test,y_b_NB_pred)],palette='viridis')"
   ]
  },
  {
   "cell_type": "code",
   "execution_count": 27,
   "metadata": {},
   "outputs": [],
   "source": [
    "# The accuracy score of Multinomial Naive Bayes is: 0.82175 which is highest. we will save this model to a pickle file\n",
    "with  open('naive_bayes_model.pickle','wb') as f:\n",
    "    pickle.dump(m_NB,f)"
   ]
  },
  {
   "source": [
    "## Using artificial neural network"
   ],
   "cell_type": "markdown",
   "metadata": {}
  },
  {
   "cell_type": "code",
   "execution_count": 29,
   "metadata": {},
   "outputs": [],
   "source": [
    "from tensorflow.keras.models import Sequential \n",
    "from tensorflow.keras.layers import Dense"
   ]
  },
  {
   "source": [
    "### Training model"
   ],
   "cell_type": "markdown",
   "metadata": {}
  },
  {
   "cell_type": "code",
   "execution_count": 31,
   "metadata": {},
   "outputs": [],
   "source": [
    "ann_model=Sequential()\n",
    "ann_model.add( Dense(8, activation=\"relu\", input_shape = (X.shape[1],) ) )\n",
    "ann_model.add( Dense(8, activation=\"relu\") )\n",
    "ann_model.add( Dense(4, activation=\"relu\") )\n",
    "ann_model.add( Dense(2, activation=\"relu\") )\n",
    "ann_model.add( Dense(1, activation=\"sigmoid\"))\n",
    "\n",
    "ann_model.compile(optimizer='Adam', loss=\"binary_crossentropy\", metrics=['accuracy'])"
   ]
  },
  {
   "cell_type": "code",
   "execution_count": 32,
   "metadata": {},
   "outputs": [],
   "source": [
    "# validation set\n",
    "X_val=X[:1000]\n",
    "y_val=y[:1000]"
   ]
  },
  {
   "cell_type": "code",
   "execution_count": 33,
   "metadata": {},
   "outputs": [
    {
     "output_type": "execute_result",
     "data": {
      "text/plain": [
       "(1000, 500)"
      ]
     },
     "metadata": {},
     "execution_count": 33
    }
   ],
   "source": [
    "X_val.shape"
   ]
  },
  {
   "cell_type": "code",
   "execution_count": 34,
   "metadata": {},
   "outputs": [
    {
     "output_type": "execute_result",
     "data": {
      "text/plain": [
       "(1000,)"
      ]
     },
     "metadata": {},
     "execution_count": 34
    }
   ],
   "source": [
    "y_val.shape"
   ]
  },
  {
   "cell_type": "code",
   "execution_count": 35,
   "metadata": {},
   "outputs": [
    {
     "output_type": "stream",
     "name": "stdout",
     "text": [
      "Epoch 1/100\n",
      "2000/2000 [==============================] - 13s 6ms/step - loss: 0.5757 - accuracy: 0.7099 - val_loss: 0.3665 - val_accuracy: 0.8600\n",
      "Epoch 2/100\n",
      "2000/2000 [==============================] - 12s 6ms/step - loss: 0.4031 - accuracy: 0.8396 - val_loss: 0.3235 - val_accuracy: 0.8720\n",
      "Epoch 3/100\n",
      "2000/2000 [==============================] - 11s 6ms/step - loss: 0.3743 - accuracy: 0.8481 - val_loss: 0.2982 - val_accuracy: 0.8820\n",
      "Epoch 4/100\n",
      "2000/2000 [==============================] - 12s 6ms/step - loss: 0.3562 - accuracy: 0.8532 - val_loss: 0.2915 - val_accuracy: 0.8830\n",
      "Epoch 5/100\n",
      "2000/2000 [==============================] - 11s 6ms/step - loss: 0.3513 - accuracy: 0.8538 - val_loss: 0.2732 - val_accuracy: 0.8830\n",
      "Epoch 6/100\n",
      "2000/2000 [==============================] - 11s 6ms/step - loss: 0.3280 - accuracy: 0.8656 - val_loss: 0.2718 - val_accuracy: 0.8940\n",
      "Epoch 7/100\n",
      "2000/2000 [==============================] - 12s 6ms/step - loss: 0.3053 - accuracy: 0.8745 - val_loss: 0.2610 - val_accuracy: 0.8980\n",
      "Epoch 8/100\n",
      "2000/2000 [==============================] - 11s 6ms/step - loss: 0.2993 - accuracy: 0.8770 - val_loss: 0.2499 - val_accuracy: 0.8990\n",
      "Epoch 9/100\n",
      "2000/2000 [==============================] - 12s 6ms/step - loss: 0.2845 - accuracy: 0.8855 - val_loss: 0.2511 - val_accuracy: 0.9030\n",
      "Epoch 10/100\n",
      "2000/2000 [==============================] - 12s 6ms/step - loss: 0.2820 - accuracy: 0.8854 - val_loss: 0.2300 - val_accuracy: 0.9060\n",
      "Epoch 11/100\n",
      "2000/2000 [==============================] - 12s 6ms/step - loss: 0.2733 - accuracy: 0.8925 - val_loss: 0.2138 - val_accuracy: 0.9130\n",
      "Epoch 12/100\n",
      "2000/2000 [==============================] - 12s 6ms/step - loss: 0.2525 - accuracy: 0.9001 - val_loss: 0.2207 - val_accuracy: 0.9160\n",
      "Epoch 13/100\n",
      "2000/2000 [==============================] - 12s 6ms/step - loss: 0.2532 - accuracy: 0.9019 - val_loss: 0.2059 - val_accuracy: 0.9220\n",
      "Epoch 14/100\n",
      "2000/2000 [==============================] - 12s 6ms/step - loss: 0.2430 - accuracy: 0.9082 - val_loss: 0.2113 - val_accuracy: 0.9160\n",
      "Epoch 15/100\n",
      "2000/2000 [==============================] - 12s 6ms/step - loss: 0.2405 - accuracy: 0.9045 - val_loss: 0.2030 - val_accuracy: 0.9270\n",
      "Epoch 16/100\n",
      "2000/2000 [==============================] - 13s 6ms/step - loss: 0.2394 - accuracy: 0.9086 - val_loss: 0.2067 - val_accuracy: 0.9240\n",
      "Epoch 17/100\n",
      "2000/2000 [==============================] - 12s 6ms/step - loss: 0.2277 - accuracy: 0.9137 - val_loss: 0.1894 - val_accuracy: 0.9300\n",
      "Epoch 18/100\n",
      "2000/2000 [==============================] - 13s 6ms/step - loss: 0.2266 - accuracy: 0.9120 - val_loss: 0.1816 - val_accuracy: 0.9360\n",
      "Epoch 19/100\n",
      "2000/2000 [==============================] - 12s 6ms/step - loss: 0.2307 - accuracy: 0.9102 - val_loss: 0.1827 - val_accuracy: 0.9360\n",
      "Epoch 20/100\n",
      "2000/2000 [==============================] - 12s 6ms/step - loss: 0.2222 - accuracy: 0.9121 - val_loss: 0.1792 - val_accuracy: 0.9320\n",
      "Epoch 21/100\n",
      "2000/2000 [==============================] - 12s 6ms/step - loss: 0.2170 - accuracy: 0.9182 - val_loss: 0.1744 - val_accuracy: 0.9290\n",
      "Epoch 22/100\n",
      "2000/2000 [==============================] - 12s 6ms/step - loss: 0.2095 - accuracy: 0.9186 - val_loss: 0.1838 - val_accuracy: 0.9340\n",
      "Epoch 23/100\n",
      "2000/2000 [==============================] - 13s 7ms/step - loss: 0.2077 - accuracy: 0.9228 - val_loss: 0.1640 - val_accuracy: 0.9430\n",
      "Epoch 24/100\n",
      "2000/2000 [==============================] - 12s 6ms/step - loss: 0.2113 - accuracy: 0.9232 - val_loss: 0.1659 - val_accuracy: 0.9390\n",
      "Epoch 25/100\n",
      "2000/2000 [==============================] - 12s 6ms/step - loss: 0.2041 - accuracy: 0.9244 - val_loss: 0.1728 - val_accuracy: 0.9390\n",
      "Epoch 26/100\n",
      "2000/2000 [==============================] - 12s 6ms/step - loss: 0.2048 - accuracy: 0.9253 - val_loss: 0.1690 - val_accuracy: 0.9390\n",
      "Epoch 27/100\n",
      "2000/2000 [==============================] - 12s 6ms/step - loss: 0.2030 - accuracy: 0.9266 - val_loss: 0.1698 - val_accuracy: 0.9320\n",
      "Epoch 28/100\n",
      "2000/2000 [==============================] - 12s 6ms/step - loss: 0.1978 - accuracy: 0.9292 - val_loss: 0.1657 - val_accuracy: 0.9370\n",
      "Epoch 29/100\n",
      "2000/2000 [==============================] - 12s 6ms/step - loss: 0.1960 - accuracy: 0.9270 - val_loss: 0.1696 - val_accuracy: 0.9430\n",
      "Epoch 30/100\n",
      "2000/2000 [==============================] - 13s 6ms/step - loss: 0.1921 - accuracy: 0.9311 - val_loss: 0.1673 - val_accuracy: 0.9400\n",
      "Epoch 31/100\n",
      "2000/2000 [==============================] - 15s 7ms/step - loss: 0.1921 - accuracy: 0.9308 - val_loss: 0.1614 - val_accuracy: 0.9460\n",
      "Epoch 32/100\n",
      "2000/2000 [==============================] - 13s 6ms/step - loss: 0.1825 - accuracy: 0.9352 - val_loss: 0.1639 - val_accuracy: 0.9370\n",
      "Epoch 33/100\n",
      "2000/2000 [==============================] - 12s 6ms/step - loss: 0.1814 - accuracy: 0.9356 - val_loss: 0.1558 - val_accuracy: 0.9450\n",
      "Epoch 34/100\n",
      "2000/2000 [==============================] - 12s 6ms/step - loss: 0.1775 - accuracy: 0.9377 - val_loss: 0.1550 - val_accuracy: 0.9460\n",
      "Epoch 35/100\n",
      "2000/2000 [==============================] - 13s 6ms/step - loss: 0.1883 - accuracy: 0.9339 - val_loss: 0.1597 - val_accuracy: 0.9390\n",
      "Epoch 36/100\n",
      "2000/2000 [==============================] - 12s 6ms/step - loss: 0.1829 - accuracy: 0.9349 - val_loss: 0.1604 - val_accuracy: 0.9410\n",
      "Epoch 37/100\n",
      "2000/2000 [==============================] - 13s 6ms/step - loss: 0.1806 - accuracy: 0.9354 - val_loss: 0.1493 - val_accuracy: 0.9540\n",
      "Epoch 38/100\n",
      "2000/2000 [==============================] - 12s 6ms/step - loss: 0.1798 - accuracy: 0.9362 - val_loss: 0.1530 - val_accuracy: 0.9480\n",
      "Epoch 39/100\n",
      "2000/2000 [==============================] - 12s 6ms/step - loss: 0.1712 - accuracy: 0.9406 - val_loss: 0.1471 - val_accuracy: 0.9530\n",
      "Epoch 40/100\n",
      "2000/2000 [==============================] - 14s 7ms/step - loss: 0.1742 - accuracy: 0.9377 - val_loss: 0.1611 - val_accuracy: 0.9450\n",
      "Epoch 41/100\n",
      "2000/2000 [==============================] - 12s 6ms/step - loss: 0.1802 - accuracy: 0.9375 - val_loss: 0.1435 - val_accuracy: 0.9490\n",
      "Epoch 42/100\n",
      "2000/2000 [==============================] - 12s 6ms/step - loss: 0.1737 - accuracy: 0.9389 - val_loss: 0.1423 - val_accuracy: 0.9570\n",
      "Epoch 43/100\n",
      "2000/2000 [==============================] - 12s 6ms/step - loss: 0.1719 - accuracy: 0.9405 - val_loss: 0.1462 - val_accuracy: 0.9520\n",
      "Epoch 44/100\n",
      "2000/2000 [==============================] - 12s 6ms/step - loss: 0.1765 - accuracy: 0.9379 - val_loss: 0.1505 - val_accuracy: 0.9470\n",
      "Epoch 45/100\n",
      "2000/2000 [==============================] - 14s 7ms/step - loss: 0.1733 - accuracy: 0.9397 - val_loss: 0.1448 - val_accuracy: 0.9520\n",
      "Epoch 46/100\n",
      "2000/2000 [==============================] - 12s 6ms/step - loss: 0.1758 - accuracy: 0.9402 - val_loss: 0.1440 - val_accuracy: 0.9530\n",
      "Epoch 47/100\n",
      "2000/2000 [==============================] - 12s 6ms/step - loss: 0.1774 - accuracy: 0.9392 - val_loss: 0.1488 - val_accuracy: 0.9480\n",
      "Epoch 48/100\n",
      "2000/2000 [==============================] - 12s 6ms/step - loss: 0.1712 - accuracy: 0.9419 - val_loss: 0.1451 - val_accuracy: 0.9510\n",
      "Epoch 49/100\n",
      "2000/2000 [==============================] - 14s 7ms/step - loss: 0.1756 - accuracy: 0.9404 - val_loss: 0.1350 - val_accuracy: 0.9570\n",
      "Epoch 50/100\n",
      "2000/2000 [==============================] - 12s 6ms/step - loss: 0.1638 - accuracy: 0.9439 - val_loss: 0.1380 - val_accuracy: 0.9570\n",
      "Epoch 51/100\n",
      "2000/2000 [==============================] - 12s 6ms/step - loss: 0.1685 - accuracy: 0.9437 - val_loss: 0.1354 - val_accuracy: 0.9540\n",
      "Epoch 52/100\n",
      "2000/2000 [==============================] - 12s 6ms/step - loss: 0.1709 - accuracy: 0.9418 - val_loss: 0.1539 - val_accuracy: 0.9460\n",
      "Epoch 53/100\n",
      "2000/2000 [==============================] - 12s 6ms/step - loss: 0.1672 - accuracy: 0.9416 - val_loss: 0.1316 - val_accuracy: 0.9600\n",
      "Epoch 54/100\n",
      "2000/2000 [==============================] - 12s 6ms/step - loss: 0.1679 - accuracy: 0.9424 - val_loss: 0.1400 - val_accuracy: 0.9530\n",
      "Epoch 55/100\n",
      "2000/2000 [==============================] - 12s 6ms/step - loss: 0.1679 - accuracy: 0.9425 - val_loss: 0.1361 - val_accuracy: 0.9530\n",
      "Epoch 56/100\n",
      "2000/2000 [==============================] - 13s 6ms/step - loss: 0.1653 - accuracy: 0.9433 - val_loss: 0.1328 - val_accuracy: 0.9570\n",
      "Epoch 57/100\n",
      "2000/2000 [==============================] - 12s 6ms/step - loss: 0.1627 - accuracy: 0.9475 - val_loss: 0.1276 - val_accuracy: 0.9590\n",
      "Epoch 58/100\n",
      "2000/2000 [==============================] - 14s 7ms/step - loss: 0.1610 - accuracy: 0.9463 - val_loss: 0.1343 - val_accuracy: 0.9620\n",
      "Epoch 59/100\n",
      "2000/2000 [==============================] - 12s 6ms/step - loss: 0.1581 - accuracy: 0.9474 - val_loss: 0.1267 - val_accuracy: 0.9630\n",
      "Epoch 60/100\n",
      "2000/2000 [==============================] - 12s 6ms/step - loss: 0.1523 - accuracy: 0.9499 - val_loss: 0.1316 - val_accuracy: 0.9560\n",
      "Epoch 61/100\n",
      "2000/2000 [==============================] - 12s 6ms/step - loss: 0.1666 - accuracy: 0.9454 - val_loss: 0.1308 - val_accuracy: 0.9600\n",
      "Epoch 62/100\n",
      "2000/2000 [==============================] - 12s 6ms/step - loss: 0.1597 - accuracy: 0.9488 - val_loss: 0.1240 - val_accuracy: 0.9650\n",
      "Epoch 63/100\n",
      "2000/2000 [==============================] - 14s 7ms/step - loss: 0.1547 - accuracy: 0.9487 - val_loss: 0.1313 - val_accuracy: 0.9610\n",
      "Epoch 64/100\n",
      "2000/2000 [==============================] - 14s 7ms/step - loss: 0.1563 - accuracy: 0.9491 - val_loss: 0.1288 - val_accuracy: 0.9570\n",
      "Epoch 65/100\n",
      "2000/2000 [==============================] - 17s 9ms/step - loss: 0.1566 - accuracy: 0.9482 - val_loss: 0.1291 - val_accuracy: 0.9620\n",
      "Epoch 66/100\n",
      "2000/2000 [==============================] - 17s 8ms/step - loss: 0.1572 - accuracy: 0.9475 - val_loss: 0.1230 - val_accuracy: 0.9640\n",
      "Epoch 67/100\n",
      "2000/2000 [==============================] - 14s 7ms/step - loss: 0.1580 - accuracy: 0.9485 - val_loss: 0.1264 - val_accuracy: 0.9590\n",
      "Epoch 68/100\n",
      "2000/2000 [==============================] - 14s 7ms/step - loss: 0.1628 - accuracy: 0.9462 - val_loss: 0.1202 - val_accuracy: 0.9610\n",
      "Epoch 69/100\n",
      "2000/2000 [==============================] - 15s 8ms/step - loss: 0.1582 - accuracy: 0.9461 - val_loss: 0.1223 - val_accuracy: 0.9630\n",
      "Epoch 70/100\n",
      "2000/2000 [==============================] - 16s 8ms/step - loss: 0.1499 - accuracy: 0.9498 - val_loss: 0.1285 - val_accuracy: 0.9590\n",
      "Epoch 71/100\n",
      "2000/2000 [==============================] - 14s 7ms/step - loss: 0.1520 - accuracy: 0.9510 - val_loss: 0.1283 - val_accuracy: 0.9620\n",
      "Epoch 72/100\n",
      "2000/2000 [==============================] - 15s 8ms/step - loss: 0.1432 - accuracy: 0.9530 - val_loss: 0.1289 - val_accuracy: 0.9610\n",
      "Epoch 73/100\n",
      "2000/2000 [==============================] - 17s 8ms/step - loss: 0.1603 - accuracy: 0.9492 - val_loss: 0.1285 - val_accuracy: 0.9590\n",
      "Epoch 74/100\n",
      "2000/2000 [==============================] - 18s 9ms/step - loss: 0.1445 - accuracy: 0.9548 - val_loss: 0.1340 - val_accuracy: 0.9560\n",
      "Epoch 75/100\n",
      "2000/2000 [==============================] - 15s 7ms/step - loss: 0.1524 - accuracy: 0.9523 - val_loss: 0.1252 - val_accuracy: 0.9580\n",
      "Epoch 76/100\n",
      "2000/2000 [==============================] - 15s 7ms/step - loss: 0.1509 - accuracy: 0.9515 - val_loss: 0.1291 - val_accuracy: 0.9590\n",
      "Epoch 77/100\n",
      "2000/2000 [==============================] - 13s 7ms/step - loss: 0.1532 - accuracy: 0.9505 - val_loss: 0.1261 - val_accuracy: 0.9650\n",
      "Epoch 78/100\n",
      "2000/2000 [==============================] - 13s 6ms/step - loss: 0.1527 - accuracy: 0.9522 - val_loss: 0.1246 - val_accuracy: 0.9600\n",
      "Epoch 79/100\n",
      "2000/2000 [==============================] - 14s 7ms/step - loss: 0.1491 - accuracy: 0.9536 - val_loss: 0.1187 - val_accuracy: 0.9660\n",
      "Epoch 80/100\n",
      "2000/2000 [==============================] - 14s 7ms/step - loss: 0.1517 - accuracy: 0.9526 - val_loss: 0.1188 - val_accuracy: 0.9640\n",
      "Epoch 81/100\n",
      "2000/2000 [==============================] - 14s 7ms/step - loss: 0.1492 - accuracy: 0.9528 - val_loss: 0.1238 - val_accuracy: 0.9570\n",
      "Epoch 82/100\n",
      "2000/2000 [==============================] - 14s 7ms/step - loss: 0.1526 - accuracy: 0.9504 - val_loss: 0.1206 - val_accuracy: 0.9640\n",
      "Epoch 83/100\n",
      "2000/2000 [==============================] - 16s 8ms/step - loss: 0.1389 - accuracy: 0.9566 - val_loss: 0.1234 - val_accuracy: 0.9600\n",
      "Epoch 84/100\n",
      "2000/2000 [==============================] - 15s 7ms/step - loss: 0.1454 - accuracy: 0.9542 - val_loss: 0.1552 - val_accuracy: 0.9480\n",
      "Epoch 85/100\n",
      "2000/2000 [==============================] - 14s 7ms/step - loss: 0.1484 - accuracy: 0.9537 - val_loss: 0.1245 - val_accuracy: 0.9620\n",
      "Epoch 86/100\n",
      "2000/2000 [==============================] - 15s 8ms/step - loss: 0.1489 - accuracy: 0.9531 - val_loss: 0.1224 - val_accuracy: 0.9620\n",
      "Epoch 87/100\n",
      "2000/2000 [==============================] - 14s 7ms/step - loss: 0.1466 - accuracy: 0.9537 - val_loss: 0.1266 - val_accuracy: 0.9620\n",
      "Epoch 88/100\n",
      "2000/2000 [==============================] - 14s 7ms/step - loss: 0.1421 - accuracy: 0.9548 - val_loss: 0.1161 - val_accuracy: 0.9660\n",
      "Epoch 89/100\n",
      "2000/2000 [==============================] - 14s 7ms/step - loss: 0.1421 - accuracy: 0.9552 - val_loss: 0.1227 - val_accuracy: 0.9630\n",
      "Epoch 90/100\n",
      "2000/2000 [==============================] - 14s 7ms/step - loss: 0.1466 - accuracy: 0.9544 - val_loss: 0.1204 - val_accuracy: 0.9660\n",
      "Epoch 91/100\n",
      "2000/2000 [==============================] - 14s 7ms/step - loss: 0.1532 - accuracy: 0.9509 - val_loss: 0.1188 - val_accuracy: 0.9680\n",
      "Epoch 92/100\n",
      "2000/2000 [==============================] - 16s 8ms/step - loss: 0.1417 - accuracy: 0.9569 - val_loss: 0.1515 - val_accuracy: 0.9530\n",
      "Epoch 93/100\n",
      "2000/2000 [==============================] - 14s 7ms/step - loss: 0.1443 - accuracy: 0.9555 - val_loss: 0.1304 - val_accuracy: 0.9650\n",
      "Epoch 94/100\n",
      "2000/2000 [==============================] - 15s 7ms/step - loss: 0.1476 - accuracy: 0.9548 - val_loss: 0.1139 - val_accuracy: 0.9700\n",
      "Epoch 95/100\n",
      "2000/2000 [==============================] - 15s 8ms/step - loss: 0.1427 - accuracy: 0.9525 - val_loss: 0.1144 - val_accuracy: 0.9660\n",
      "Epoch 96/100\n",
      "2000/2000 [==============================] - 14s 7ms/step - loss: 0.1397 - accuracy: 0.9556 - val_loss: 0.1185 - val_accuracy: 0.9650\n",
      "Epoch 97/100\n",
      "2000/2000 [==============================] - 14s 7ms/step - loss: 0.1400 - accuracy: 0.9556 - val_loss: 0.1304 - val_accuracy: 0.9580\n",
      "Epoch 98/100\n",
      "2000/2000 [==============================] - 15s 7ms/step - loss: 0.1385 - accuracy: 0.9555 - val_loss: 0.1107 - val_accuracy: 0.9660\n",
      "Epoch 99/100\n",
      "2000/2000 [==============================] - 14s 7ms/step - loss: 0.1371 - accuracy: 0.9577 - val_loss: 0.1210 - val_accuracy: 0.9660\n",
      "Epoch 100/100\n",
      "2000/2000 [==============================] - 14s 7ms/step - loss: 0.1419 - accuracy: 0.9537 - val_loss: 0.1170 - val_accuracy: 0.9640\n"
     ]
    }
   ],
   "source": [
    "result = ann_model.fit(X, y, batch_size=10, epochs=100, validation_data=(X_val, y_val),verbose=1)"
   ]
  },
  {
   "cell_type": "code",
   "execution_count": 36,
   "metadata": {},
   "outputs": [
    {
     "output_type": "stream",
     "name": "stdout",
     "text": [
      "32/32 [==============================] - 0s 6ms/step - loss: 0.1170 - accuracy: 0.9640\n"
     ]
    },
    {
     "output_type": "execute_result",
     "data": {
      "text/plain": [
       "[0.11703848093748093, 0.9639999866485596]"
      ]
     },
     "metadata": {},
     "execution_count": 36
    }
   ],
   "source": [
    "ann_model.evaluate(X_val, y_val)"
   ]
  },
  {
   "cell_type": "code",
   "execution_count": 38,
   "metadata": {},
   "outputs": [],
   "source": [
    "# This ANN model has 96.39 % accuracy ans we have to save our model\n",
    "ann_model.save('ann_model',save_format=\"h5\") \n",
    "# To load model -> 1. import tensorflow.kers.models import load_model  2. model = load_model(\"ann_model_model\")"
   ]
  },
  {
   "source": [],
   "cell_type": "markdown",
   "metadata": {}
  }
 ]
}